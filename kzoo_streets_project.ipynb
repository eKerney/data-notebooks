{
 "cells": [
  {
   "cell_type": "code",
   "execution_count": 16,
   "metadata": {},
   "outputs": [],
   "source": [
    "import pandas as pd\n",
    "import json\n",
    "import os\n",
    "import numpy as np"
   ]
  },
  {
   "cell_type": "code",
   "execution_count": 2,
   "metadata": {},
   "outputs": [
    {
     "data": {
      "text/plain": [
       "'/home/pi/dev/notebooks/30DayMap2024/data/kzoo_street_12225/1861928_West_Main_Street'"
      ]
     },
     "execution_count": 2,
     "metadata": {},
     "output_type": "execute_result"
    }
   ],
   "source": [
    "os.chdir('/home/pi/dev/notebooks/30DayMap2024/data/kzoo_street_12225')\n",
    "dirs = os.listdir()\n",
    "os.chdir(dirs[0])\n",
    "os.getcwd()"
   ]
  },
  {
   "cell_type": "code",
   "execution_count": 13,
   "metadata": {},
   "outputs": [
    {
     "data": {
      "text/html": [
       "<div>\n",
       "<style scoped>\n",
       "    .dataframe tbody tr th:only-of-type {\n",
       "        vertical-align: middle;\n",
       "    }\n",
       "\n",
       "    .dataframe tbody tr th {\n",
       "        vertical-align: top;\n",
       "    }\n",
       "\n",
       "    .dataframe thead th {\n",
       "        text-align: right;\n",
       "    }\n",
       "</style>\n",
       "<table border=\"1\" class=\"dataframe\">\n",
       "  <thead>\n",
       "    <tr style=\"text-align: right;\">\n",
       "      <th></th>\n",
       "      <th>Data Periods</th>\n",
       "      <th>Mode of Travel</th>\n",
       "      <th>Zone ID</th>\n",
       "      <th>Zone Name</th>\n",
       "      <th>Road Classification</th>\n",
       "      <th>Line Zone Length (Miles)</th>\n",
       "      <th>Zone Is Pass Through</th>\n",
       "      <th>Zone Direction (degrees)</th>\n",
       "      <th>Zone Cardinal Direction</th>\n",
       "      <th>Zone is Bi-Direction</th>\n",
       "      <th>Day Type</th>\n",
       "      <th>Day Part</th>\n",
       "      <th>Average Daily Segment Traffic (StL Volume)</th>\n",
       "      <th>Avg Segment Speed (mph)</th>\n",
       "      <th>Avg Segment Travel Time (sec)</th>\n",
       "      <th>Free Flow Speed (mph)</th>\n",
       "      <th>Vehicle Miles of Travel (StL Volume)</th>\n",
       "      <th>Travel Time Index</th>\n",
       "      <th>Congested Segment</th>\n",
       "      <th>85th Speed Percentile</th>\n",
       "    </tr>\n",
       "  </thead>\n",
       "  <tbody>\n",
       "    <tr>\n",
       "      <th>0</th>\n",
       "      <td>Jan 01, 2022 - Dec 31, 2023</td>\n",
       "      <td>All Vehicles - StL All Vehicles Volume</td>\n",
       "      <td>1111503841</td>\n",
       "      <td>West Main Street / 111568112 / 7</td>\n",
       "      <td>Primary</td>\n",
       "      <td>0.031</td>\n",
       "      <td>yes</td>\n",
       "      <td>92</td>\n",
       "      <td>EAST</td>\n",
       "      <td>yes</td>\n",
       "      <td>0: All Days (M-Su)</td>\n",
       "      <td>00: All Day (12am-12am)</td>\n",
       "      <td>11509</td>\n",
       "      <td>40</td>\n",
       "      <td>3</td>\n",
       "      <td>44.303</td>\n",
       "      <td>360.04</td>\n",
       "      <td>1.12</td>\n",
       "      <td>False</td>\n",
       "      <td>45</td>\n",
       "    </tr>\n",
       "    <tr>\n",
       "      <th>1</th>\n",
       "      <td>Jan 01, 2022 - Dec 31, 2023</td>\n",
       "      <td>All Vehicles - StL All Vehicles Volume</td>\n",
       "      <td>1111503841</td>\n",
       "      <td>West Main Street / 111568112 / 7</td>\n",
       "      <td>Primary</td>\n",
       "      <td>0.031</td>\n",
       "      <td>yes</td>\n",
       "      <td>92</td>\n",
       "      <td>EAST</td>\n",
       "      <td>yes</td>\n",
       "      <td>0: All Days (M-Su)</td>\n",
       "      <td>01: 12am (12am-1am)</td>\n",
       "      <td>125</td>\n",
       "      <td>40</td>\n",
       "      <td>3</td>\n",
       "      <td>44.303</td>\n",
       "      <td>3.92</td>\n",
       "      <td>1.09</td>\n",
       "      <td>False</td>\n",
       "      <td>46</td>\n",
       "    </tr>\n",
       "  </tbody>\n",
       "</table>\n",
       "</div>"
      ],
      "text/plain": [
       "                  Data Periods                          Mode of Travel  \\\n",
       "0  Jan 01, 2022 - Dec 31, 2023  All Vehicles - StL All Vehicles Volume   \n",
       "1  Jan 01, 2022 - Dec 31, 2023  All Vehicles - StL All Vehicles Volume   \n",
       "\n",
       "      Zone ID                         Zone Name Road Classification  \\\n",
       "0  1111503841  West Main Street / 111568112 / 7             Primary   \n",
       "1  1111503841  West Main Street / 111568112 / 7             Primary   \n",
       "\n",
       "   Line Zone Length (Miles) Zone Is Pass Through  Zone Direction (degrees)  \\\n",
       "0                     0.031                  yes                        92   \n",
       "1                     0.031                  yes                        92   \n",
       "\n",
       "  Zone Cardinal Direction Zone is Bi-Direction            Day Type  \\\n",
       "0                    EAST                  yes  0: All Days (M-Su)   \n",
       "1                    EAST                  yes  0: All Days (M-Su)   \n",
       "\n",
       "                  Day Part  Average Daily Segment Traffic (StL Volume)  \\\n",
       "0  00: All Day (12am-12am)                                       11509   \n",
       "1      01: 12am (12am-1am)                                         125   \n",
       "\n",
       "   Avg Segment Speed (mph)  Avg Segment Travel Time (sec)  \\\n",
       "0                       40                              3   \n",
       "1                       40                              3   \n",
       "\n",
       "   Free Flow Speed (mph)  Vehicle Miles of Travel (StL Volume)  \\\n",
       "0                 44.303                                360.04   \n",
       "1                 44.303                                  3.92   \n",
       "\n",
       "   Travel Time Index  Congested Segment  85th Speed Percentile  \n",
       "0               1.12              False                     45  \n",
       "1               1.09              False                     46  "
      ]
     },
     "execution_count": 13,
     "metadata": {},
     "output_type": "execute_result"
    }
   ],
   "source": [
    "files = os.listdir()\n",
    "df = pd.read_csv(files[0])\n",
    "df.head(2)"
   ]
  },
  {
   "cell_type": "code",
   "execution_count": null,
   "metadata": {},
   "outputs": [
    {
     "data": {
      "text/html": [
       "<div>\n",
       "<style scoped>\n",
       "    .dataframe tbody tr th:only-of-type {\n",
       "        vertical-align: middle;\n",
       "    }\n",
       "\n",
       "    .dataframe tbody tr th {\n",
       "        vertical-align: top;\n",
       "    }\n",
       "\n",
       "    .dataframe thead th {\n",
       "        text-align: right;\n",
       "    }\n",
       "</style>\n",
       "<table border=\"1\" class=\"dataframe\">\n",
       "  <thead>\n",
       "    <tr style=\"text-align: right;\">\n",
       "      <th></th>\n",
       "      <th>Zone ID</th>\n",
       "      <th>Day Type</th>\n",
       "      <th>Average Daily Segment Traffic (StL Volume)</th>\n",
       "      <th>Avg Segment Speed (mph)</th>\n",
       "      <th>Free Flow Speed (mph)</th>\n",
       "      <th>85th Speed Percentile</th>\n",
       "    </tr>\n",
       "  </thead>\n",
       "  <tbody>\n",
       "    <tr>\n",
       "      <th>0</th>\n",
       "      <td>1111503841</td>\n",
       "      <td>0: All Days (M-Su)</td>\n",
       "      <td>11509</td>\n",
       "      <td>40</td>\n",
       "      <td>44.303</td>\n",
       "      <td>45</td>\n",
       "    </tr>\n",
       "    <tr>\n",
       "      <th>90</th>\n",
       "      <td>1111754274</td>\n",
       "      <td>0: All Days (M-Su)</td>\n",
       "      <td>11450</td>\n",
       "      <td>37</td>\n",
       "      <td>42.516</td>\n",
       "      <td>43</td>\n",
       "    </tr>\n",
       "  </tbody>\n",
       "</table>\n",
       "</div>"
      ],
      "text/plain": [
       "       Zone ID            Day Type  \\\n",
       "0   1111503841  0: All Days (M-Su)   \n",
       "90  1111754274  0: All Days (M-Su)   \n",
       "\n",
       "    Average Daily Segment Traffic (StL Volume)  Avg Segment Speed (mph)  \\\n",
       "0                                        11509                       40   \n",
       "90                                       11450                       37   \n",
       "\n",
       "    Free Flow Speed (mph)  85th Speed Percentile  \n",
       "0                  44.303                     45  \n",
       "90                 42.516                     43  "
      ]
     },
     "execution_count": 56,
     "metadata": {},
     "output_type": "execute_result"
    }
   ],
   "source": [
    "df_all = df[(df['Day Part'] == '00: All Day (12am-12am)') & (df['Day Type'] == '0: All Days (M-Su)')]\n",
    "c = df_all.columns\n",
    "df_at = df_all[[c[2], c[10], c[12], c[13], c[15], c[19]]]\n",
    "df_at.count()"
   ]
  },
  {
   "cell_type": "code",
   "execution_count": 146,
   "metadata": {},
   "outputs": [
    {
     "name": "stdout",
     "output_type": "stream",
     "text": [
      "Loaded JSON: 1861928_West_Main_Street_osm_segment.geojson\n",
      "GeoJSON output: west_main.geojson\n"
     ]
    }
   ],
   "source": [
    "url_path = 'https://raw.githubusercontent.com/eKerney/dataStore2/refs/heads/main/wayneGroundObs.geojson'\n",
    "file_path = '/home/pi/dev/notebooks/30DayMap2024/data/kzoo_street_12225/1861928_West_Main_Street/Shapefile/1861928_West_Main_Street_osm_segment.geojson'\n",
    "geojson = GeoJSONtools(file_path)\n",
    "geojson.export_file(\"west_main\")"
   ]
  },
  {
   "cell_type": "code",
   "execution_count": 144,
   "metadata": {},
   "outputs": [],
   "source": [
    "import pandas as pd\n",
    "import geopandas as gpd\n",
    "import os\n",
    "import json\n",
    "import numpy as np\n",
    "\n",
    "class GeoJSONtools:\n",
    "    def __init__(self, file_path: str=\"\"):\n",
    "        if not file_path:\n",
    "            self.geojson = None\n",
    "        elif file_path.startswith(\"https:\") or file_path.startswith(\"http:\"):\n",
    "            gdf = gpd.read_file(file_path)\n",
    "            self.geojson = json.loads(gdf.to_json())\n",
    "        else:\n",
    "            f = open(file_path)\n",
    "            splt = file_path.split('/')\n",
    "            print(f'Loaded JSON: {splt[-1]}')\n",
    "            self.geojson = json.load(f)\n",
    "\n",
    "    @property          \n",
    "    def geojson(self): \n",
    "        return self._geojson\n",
    "\n",
    "    @geojson.setter \n",
    "    def geojson(self, value):\n",
    "        self._geojson = value  \n",
    "    \n",
    "    def export_file(self, file_name=\"geojson_file.geojson\"):\n",
    "        with open((f'{file_name}.geojson'), \"w\") as outfile:\n",
    "            outfile.write(json.dumps(self.geojson))\n",
    "        print(f'GeoJSON output: {file_name}.geojson')\n"
   ]
  },
  {
   "cell_type": "code",
   "execution_count": 44,
   "metadata": {},
   "outputs": [
    {
     "name": "stdout",
     "output_type": "stream",
     "text": [
      "Loaded JSON: 1861928_West_Main_Street_osm_segment.geojson\n"
     ]
    },
    {
     "data": {
      "text/plain": [
       "53"
      ]
     },
     "execution_count": 44,
     "metadata": {},
     "output_type": "execute_result"
    }
   ],
   "source": [
    "geo_path = '/home/pi/dev/notebooks/30DayMap2024/data/kzoo_street_12225/1861928_West_Main_Street/Shapefile/1861928_West_Main_Street_osm_segment.geojson'\n",
    "west_main_geo = load_json(geo_path)\n",
    "west_main_geo['features'].__len__()"
   ]
  },
  {
   "cell_type": "code",
   "execution_count": 106,
   "metadata": {},
   "outputs": [
    {
     "data": {
      "text/plain": [
       "{'Zone ID': 1111503841,\n",
       " 'Day Type': '0: All Days (M-Su)',\n",
       " 'Average Daily Segment Traffic (StL Volume)': 11509,\n",
       " 'Avg Segment Speed (mph)': 40,\n",
       " 'Free Flow Speed (mph)': 44.303,\n",
       " '85th Speed Percentile': 45}"
      ]
     },
     "execution_count": 106,
     "metadata": {},
     "output_type": "execute_result"
    }
   ],
   "source": [
    "df_at.set_index(df_at['Zone ID'], inplace=True)\n",
    "data = df_at.to_dict('index')\n",
    "data[1111503841]"
   ]
  },
  {
   "cell_type": "code",
   "execution_count": null,
   "metadata": {},
   "outputs": [],
   "source": [
    "west_main_geo"
   ]
  },
  {
   "cell_type": "code",
   "execution_count": 116,
   "metadata": {},
   "outputs": [
    {
     "name": "stdout",
     "output_type": "stream",
     "text": [
      "{'type': 'Feature', 'geometry': {'bbox': [-85.61777353286743, 42.29484176635742, -85.61715984344482, 42.29485583305359], 'type': 'LineString', 'coordinates': [[-85.61777353286743, 42.29485583305359], [-85.61715984344482, 42.29484176635742]]}, 'properties': {'segment_id': 1111503841, 'name': 'West Main Street / 111568112 / 7', 'segment_ty': 'primary', 'Zone ID': 1111503841, 'Day Type': '0: All Days (M-Su)', 'Average Daily Segment Traffic (StL Volume)': 11509, 'Avg Segment Speed (mph)': 40, 'Free Flow Speed (mph)': 44.303, '85th Speed Percentile': 45}}\n",
      "{'type': 'Feature', 'geometry': {'bbox': [-85.62554883956909, 42.295430421829224, -85.62523078918457, 42.29550313949585], 'type': 'LineString', 'coordinates': [[-85.62554883956909, 42.29550313949585], [-85.62523078918457, 42.295430421829224]]}, 'properties': {'segment_id': 1111754274, 'name': 'West Main Street / 727695179 / 1', 'segment_ty': 'primary', 'Zone ID': 1111754274, 'Day Type': '0: All Days (M-Su)', 'Average Daily Segment Traffic (StL Volume)': 11450, 'Avg Segment Speed (mph)': 37, 'Free Flow Speed (mph)': 42.516, '85th Speed Percentile': 43}}\n",
      "{'type': 'Feature', 'geometry': {'bbox': [-85.63055086135864, 42.296162843704224, -85.62932634353638, 42.296188831329346], 'type': 'LineString', 'coordinates': [[-85.63055086135864, 42.296188831329346], [-85.62976694107056, 42.29617786407471], [-85.62947368621826, 42.29616737365723], [-85.62932634353638, 42.296162843704224]]}, 'properties': {'segment_id': 1111871475, 'name': 'West Main Street / 264373332 / 7', 'segment_ty': 'primary', 'Zone ID': 1111871475, 'Day Type': '0: All Days (M-Su)', 'Average Daily Segment Traffic (StL Volume)': 12575, 'Avg Segment Speed (mph)': 34, 'Free Flow Speed (mph)': 43.484, '85th Speed Percentile': 45}}\n",
      "{'type': 'Feature', 'geometry': {'bbox': [-85.61715984344482, 42.29482388496399, -85.61655282974243, 42.29484176635742], 'type': 'LineString', 'coordinates': [[-85.61715984344482, 42.29484176635742], [-85.61655282974243, 42.29482388496399]]}, 'properties': {'segment_id': 1112032394, 'name': 'West Main Street / 111568112 / 8', 'segment_ty': 'primary', 'Zone ID': 1112032394, 'Day Type': '0: All Days (M-Su)', 'Average Daily Segment Traffic (StL Volume)': 11558, 'Avg Segment Speed (mph)': 39, 'Free Flow Speed (mph)': 44.121, '85th Speed Percentile': 45}}\n",
      "{'type': 'Feature', 'geometry': {'bbox': [-85.66159534454346, 42.29599142074585, -85.6578722000122, 42.29608488082886], 'type': 'LineString', 'coordinates': [[-85.66159534454346, 42.29599142074585], [-85.66073036193848, 42.29601287841797], [-85.66024208068848, 42.296024799346924], [-85.65997838973999, 42.296035289764404], [-85.65981149673462, 42.29604148864746], [-85.65944766998291, 42.29605054855347], [-85.65916395187378, 42.296056270599365], [-85.65873146057129, 42.29606795310974], [-85.6578722000122, 42.29608488082886]]}, 'properties': {'segment_id': 1112161013, 'name': 'West Main Street / 888230017 / 1', 'segment_ty': 'primary', 'Zone ID': 1112161013, 'Day Type': '0: All Days (M-Su)', 'Average Daily Segment Traffic (StL Volume)': 16557, 'Avg Segment Speed (mph)': 33, 'Free Flow Speed (mph)': 44.298, '85th Speed Percentile': 45}}\n",
      "{'type': 'Feature', 'geometry': {'bbox': [-85.615957736969, 42.29477095603943, -85.61532497406006, 42.2947998046875], 'type': 'LineString', 'coordinates': [[-85.615957736969, 42.2947998046875], [-85.61532497406006, 42.29477095603943]]}, 'properties': {'segment_id': 1112668374, 'name': 'West Main Street / 111568112 / 10', 'segment_ty': 'primary', 'Zone ID': 1112668374, 'Day Type': '0: All Days (M-Su)', 'Average Daily Segment Traffic (StL Volume)': 11473, 'Avg Segment Speed (mph)': 38, 'Free Flow Speed (mph)': 43.465, '85th Speed Percentile': 44}}\n",
      "{'type': 'Feature', 'geometry': {'bbox': [-85.62646865844727, 42.29550313949585, -85.62554883956909, 42.295705795288086], 'type': 'LineString', 'coordinates': [[-85.62646865844727, 42.295705795288086], [-85.62624502182007, 42.29565668106079], [-85.62554883956909, 42.29550313949585]]}, 'properties': {'segment_id': 1112849422, 'name': 'West Main Street / 264453851 / 1', 'segment_ty': 'primary', 'Zone ID': 1112849422, 'Day Type': '0: All Days (M-Su)', 'Average Daily Segment Traffic (StL Volume)': 11463, 'Avg Segment Speed (mph)': 33, 'Free Flow Speed (mph)': 39.879, '85th Speed Percentile': 42}}\n",
      "{'type': 'Feature', 'geometry': {'bbox': [-85.62190866470337, 42.2950382232666, -85.62156915664673, 42.29505896568298], 'type': 'LineString', 'coordinates': [[-85.62190866470337, 42.29505896568298], [-85.62156915664673, 42.2950382232666]]}, 'properties': {'segment_id': 1113019695, 'name': 'West Main Street / 727695181 / 6', 'segment_ty': 'primary', 'Zone ID': 1113019695, 'Day Type': '0: All Days (M-Su)', 'Average Daily Segment Traffic (StL Volume)': 11408, 'Avg Segment Speed (mph)': 39, 'Free Flow Speed (mph)': 44.835, '85th Speed Percentile': 46}}\n",
      "{'type': 'Feature', 'geometry': {'bbox': [-85.61352968215942, 42.294497966766365, -85.61232089996338, 42.29464578628541], 'type': 'LineString', 'coordinates': [[-85.61352968215942, 42.29464578628541], [-85.61327600479126, 42.29461717605591], [-85.61321258544922, 42.294609785079956], [-85.61301326751709, 42.29458737373352], [-85.61293983459474, 42.29457879066467], [-85.61278629302979, 42.29455876350403], [-85.61232089996338, 42.294497966766365]]}, 'properties': {'segment_id': 1113040226, 'name': 'West Main Street / 264453853 / 1', 'segment_ty': 'primary', 'Zone ID': 1113040226, 'Day Type': '0: All Days (M-Su)', 'Average Daily Segment Traffic (StL Volume)': 12398, 'Avg Segment Speed (mph)': 37, 'Free Flow Speed (mph)': 43.79, '85th Speed Percentile': 44}}\n",
      "{'type': 'Feature', 'geometry': {'bbox': [-85.60817575454712, 42.29390287399292, -85.60703182220459, 42.29401779174805], 'type': 'LineString', 'coordinates': [[-85.60817575454712, 42.29401779174805], [-85.60779476165771, 42.293975830078125], [-85.60765361785889, 42.29396176338196], [-85.60703182220459, 42.29390287399292]]}, 'properties': {'segment_id': 1114146198, 'name': 'West Main Street / 264453853 / 5', 'segment_ty': 'primary', 'Zone ID': 1114146198, 'Day Type': '0: All Days (M-Su)', 'Average Daily Segment Traffic (StL Volume)': 12229, 'Avg Segment Speed (mph)': 37, 'Free Flow Speed (mph)': 42.355, '85th Speed Percentile': 44}}\n",
      "{'type': 'Feature', 'geometry': {'bbox': [-85.64669895172119, 42.29626989364624, -85.64403963088989, 42.2962749004364], 'type': 'LineString', 'coordinates': [[-85.64669895172119, 42.29627180099487], [-85.64608764648438, 42.29627442359924], [-85.64599657058716, 42.2962749004364], [-85.64592933654785, 42.29627466201782], [-85.6449408531189, 42.29627227783203], [-85.64478158950806, 42.29627180099487], [-85.64446210861206, 42.296271562576294], [-85.6441535949707, 42.296271324157715], [-85.64403963088989, 42.29626989364624]]}, 'properties': {'segment_id': 1114616731, 'name': 'West Main Street / 727669558 / 1', 'segment_ty': 'primary', 'Zone ID': 1114616731, 'Day Type': '0: All Days (M-Su)', 'Average Daily Segment Traffic (StL Volume)': 14863, 'Avg Segment Speed (mph)': 34, 'Free Flow Speed (mph)': 44.507, '85th Speed Percentile': 44}}\n",
      "{'type': 'Feature', 'geometry': {'bbox': [-85.65222454071045, 42.29619336128235, -85.64817810058595, 42.29626536369324], 'type': 'LineString', 'coordinates': [[-85.65222454071045, 42.29619336128235], [-85.65209770202637, 42.29619550704956], [-85.65193605422974, 42.29619789123535], [-85.6517915725708, 42.29620027542115], [-85.65171098709106, 42.29620146751404], [-85.6514458656311, 42.29620552062988], [-85.65053367614746, 42.29621744155884], [-85.65029382705688, 42.29622220993042], [-85.65026950836182, 42.29622268676758], [-85.65006256103516, 42.296226978302], [-85.64974069595337, 42.29623365402222], [-85.6493353843689, 42.296241998672485], [-85.64844226837158, 42.2962601184845], [-85.64817810058595, 42.29626536369324]]}, 'properties': {'segment_id': 1116305198, 'name': 'West Main Street / 888179235 / 1', 'segment_ty': 'primary', 'Zone ID': 1116305198, 'Day Type': '0: All Days (M-Su)', 'Average Daily Segment Traffic (StL Volume)': 14658, 'Avg Segment Speed (mph)': 27, 'Free Flow Speed (mph)': 38.562, '85th Speed Percentile': 39}}\n",
      "{'type': 'Feature', 'geometry': {'bbox': [-85.62282037734985, 42.29507637023926, -85.62256813049316, 42.29508829116821], 'type': 'LineString', 'coordinates': [[-85.62282037734985, 42.29508829116821], [-85.62256813049316, 42.29507637023926]]}, 'properties': {'segment_id': 1117249985, 'name': 'West Main Street / 727695181 / 4', 'segment_ty': 'primary', 'Zone ID': 1117249985, 'Day Type': '0: All Days (M-Su)', 'Average Daily Segment Traffic (StL Volume)': 11455, 'Avg Segment Speed (mph)': 39, 'Free Flow Speed (mph)': 44.582, '85th Speed Percentile': 46}}\n",
      "{'type': 'Feature', 'geometry': {'bbox': [-85.62932634353638, 42.29612183570862, -85.62866115570068, 42.296162843704224], 'type': 'LineString', 'coordinates': [[-85.62932634353638, 42.296162843704224], [-85.62866115570068, 42.29612183570862]]}, 'properties': {'segment_id': 1117696275, 'name': 'West Main Street / 888244385 / 1', 'segment_ty': 'primary', 'Zone ID': 1117696275, 'Day Type': '0: All Days (M-Su)', 'Average Daily Segment Traffic (StL Volume)': 9402, 'Avg Segment Speed (mph)': 38, 'Free Flow Speed (mph)': 44.344, '85th Speed Percentile': 45}}\n",
      "{'type': 'Feature', 'geometry': {'bbox': [-85.61835765838623, 42.29485583305359, -85.61777353286743, 42.29488396644592], 'type': 'LineString', 'coordinates': [[-85.61835765838623, 42.29488396644592], [-85.61777353286743, 42.29485583305359]]}, 'properties': {'segment_id': 1117701695, 'name': 'West Main Street / 111568112 / 6', 'segment_ty': 'primary', 'Zone ID': 1117701695, 'Day Type': '0: All Days (M-Su)', 'Average Daily Segment Traffic (StL Volume)': 11519, 'Avg Segment Speed (mph)': 39, 'Free Flow Speed (mph)': 44.114, '85th Speed Percentile': 45}}\n",
      "{'type': 'Feature', 'geometry': {'bbox': [-85.60145568847656, 42.292388916015625, -85.60082006454468, 42.292479038238525], 'type': 'LineString', 'coordinates': [[-85.60145568847656, 42.292479038238525], [-85.60115194320679, 42.29243588447571], [-85.60082006454468, 42.292388916015625]]}, 'properties': {'segment_id': 1117920679, 'name': 'West Main Street / 1107624155 / 3', 'segment_ty': 'primary', 'Zone ID': 1117920679, 'Day Type': '0: All Days (M-Su)', 'Average Daily Segment Traffic (StL Volume)': 12110, 'Avg Segment Speed (mph)': 43, 'Free Flow Speed (mph)': 46.82, '85th Speed Percentile': 50}}\n",
      "{'type': 'Feature', 'geometry': {'bbox': [-85.62017774581909, 42.294904947280884, -85.61900568008423, 42.294949769973755], 'type': 'LineString', 'coordinates': [[-85.62017774581909, 42.294949769973755], [-85.61900568008423, 42.294904947280884]]}, 'properties': {'segment_id': 1118270723, 'name': 'West Main Street / 111568112 / 4', 'segment_ty': 'primary', 'Zone ID': 1118270723, 'Day Type': '0: All Days (M-Su)', 'Average Daily Segment Traffic (StL Volume)': 11514, 'Avg Segment Speed (mph)': 38, 'Free Flow Speed (mph)': 43.577, '85th Speed Percentile': 45}}\n",
      "{'type': 'Feature', 'geometry': {'bbox': [-85.60991668701172, 42.29401779174805, -85.60817575454712, 42.294190883636475], 'type': 'LineString', 'coordinates': [[-85.60991668701172, 42.294190883636475], [-85.60989189147949, 42.294188499450684], [-85.60926055908203, 42.29413104057312], [-85.60902452468873, 42.29410648345947], [-85.60880851745605, 42.294084072113044], [-85.60859394073486, 42.2940616607666], [-85.60817575454712, 42.29401779174805]]}, 'properties': {'segment_id': 1118430784, 'name': 'West Main Street / 264453853 / 4', 'segment_ty': 'primary', 'Zone ID': 1118430784, 'Day Type': '0: All Days (M-Su)', 'Average Daily Segment Traffic (StL Volume)': 12275, 'Avg Segment Speed (mph)': 37, 'Free Flow Speed (mph)': 42.866, '85th Speed Percentile': 44}}\n",
      "{'type': 'Feature', 'geometry': {'bbox': [-85.61655282974243, 42.2947998046875, -85.615957736969, 42.29482388496399], 'type': 'LineString', 'coordinates': [[-85.61655282974243, 42.29482388496399], [-85.615957736969, 42.2947998046875]]}, 'properties': {'segment_id': 1119017295, 'name': 'West Main Street / 111568112 / 9', 'segment_ty': 'primary', 'Zone ID': 1119017295, 'Day Type': '0: All Days (M-Su)', 'Average Daily Segment Traffic (StL Volume)': 11507, 'Avg Segment Speed (mph)': 39, 'Free Flow Speed (mph)': 43.799, '85th Speed Percentile': 45}}\n",
      "{'type': 'Feature', 'geometry': {'bbox': [-85.63910818099976, 42.29623794555664, -85.63781499862671, 42.296244859695435], 'type': 'LineString', 'coordinates': [[-85.63910818099976, 42.296244859695435], [-85.63883876800537, 42.29624342918396], [-85.63781499862671, 42.29623794555664]]}, 'properties': {'segment_id': 1119597017, 'name': 'West Main Street / 264373332 / 3', 'segment_ty': 'primary', 'Zone ID': 1119597017, 'Day Type': '0: All Days (M-Su)', 'Average Daily Segment Traffic (StL Volume)': 12790, 'Avg Segment Speed (mph)': 31, 'Free Flow Speed (mph)': 45.986, '85th Speed Percentile': 46}}\n",
      "{'type': 'Feature', 'geometry': {'bbox': [-85.62387752532959, 42.29508829116821, -85.62282037734985, 42.29515790939331], 'type': 'LineString', 'coordinates': [[-85.62387752532959, 42.29515790939331], [-85.62352752685547, 42.295130491256714], [-85.62338161468506, 42.29511618614197], [-85.62320184707642, 42.2951078414917], [-85.62282037734985, 42.29508829116821]]}, 'properties': {'segment_id': 1120280176, 'name': 'West Main Street / 727695181 / 3', 'segment_ty': 'primary', 'Zone ID': 1120280176, 'Day Type': '0: All Days (M-Su)', 'Average Daily Segment Traffic (StL Volume)': 11442, 'Avg Segment Speed (mph)': 38, 'Free Flow Speed (mph)': 44.232, '85th Speed Percentile': 45}}\n",
      "{'type': 'Feature', 'geometry': {'bbox': [-85.62523078918457, 42.29530882835388, -85.62469959259033, 42.295430421829224], 'type': 'LineString', 'coordinates': [[-85.62523078918457, 42.295430421829224], [-85.62469959259033, 42.29530882835388]]}, 'properties': {'segment_id': 1121660005, 'name': 'West Main Street / 727695181 / 1', 'segment_ty': 'primary', 'Zone ID': 1121660005, 'Day Type': '0: All Days (M-Su)', 'Average Daily Segment Traffic (StL Volume)': 11450, 'Avg Segment Speed (mph)': 37, 'Free Flow Speed (mph)': 42.516, '85th Speed Percentile': 43}}\n",
      "{'type': 'Feature', 'geometry': {'bbox': [-85.60082006454468, 42.29229164123535, -85.60006427764893, 42.292388916015625], 'type': 'LineString', 'coordinates': [[-85.60082006454468, 42.292388916015625], [-85.60036611557008, 42.29232740402222], [-85.60006427764893, 42.29229164123535]]}, 'properties': {'segment_id': 1122981272, 'name': 'West Main Street / 1107624155 / 4', 'segment_ty': 'primary', 'Zone ID': 1122981272, 'Day Type': '0: All Days (M-Su)', 'Average Daily Segment Traffic (StL Volume)': 12346, 'Avg Segment Speed (mph)': 43, 'Free Flow Speed (mph)': 46.928, '85th Speed Percentile': 50}}\n",
      "{'type': 'Feature', 'geometry': {'bbox': [-85.59860134124756, 42.29200267791748, -85.59770822525024, 42.29211211204529], 'type': 'LineString', 'coordinates': [[-85.59860134124756, 42.29211211204529], [-85.59770822525024, 42.29200267791748]]}, 'properties': {'segment_id': 1124281992, 'name': 'West Main Street / 843368528 / 1', 'segment_ty': 'primary', 'Zone ID': 1124281992, 'Day Type': '0: All Days (M-Su)', 'Average Daily Segment Traffic (StL Volume)': 15664, 'Avg Segment Speed (mph)': 38, 'Free Flow Speed (mph)': 42.304, '85th Speed Percentile': 46}}\n",
      "{'type': 'Feature', 'geometry': {'bbox': [-85.62128257751465, 42.294994592666626, -85.62104654312135, 42.29500675201416], 'type': 'LineString', 'coordinates': [[-85.62128257751465, 42.29500675201416], [-85.62104654312135, 42.294994592666626]]}, 'properties': {'segment_id': 1124989429, 'name': 'West Main Street / 111568112 / 2', 'segment_ty': 'primary', 'Zone ID': 1124989429, 'Day Type': '0: All Days (M-Su)', 'Average Daily Segment Traffic (StL Volume)': 11145, 'Avg Segment Speed (mph)': 38, 'Free Flow Speed (mph)': 44.778, '85th Speed Percentile': 46}}\n",
      "{'type': 'Feature', 'geometry': {'bbox': [-85.63781499862671, 42.29622983932496, -85.6360535621643, 42.29623794555664], 'type': 'LineString', 'coordinates': [[-85.63781499862671, 42.29623794555664], [-85.6360535621643, 42.29622983932496]]}, 'properties': {'segment_id': 1124999038, 'name': 'West Main Street / 264373332 / 4', 'segment_ty': 'primary', 'Zone ID': 1124999038, 'Day Type': '0: All Days (M-Su)', 'Average Daily Segment Traffic (StL Volume)': 12741, 'Avg Segment Speed (mph)': 37, 'Free Flow Speed (mph)': 46.003, '85th Speed Percentile': 47}}\n",
      "{'type': 'Feature', 'geometry': {'bbox': [-85.62156915664673, 42.29500675201416, -85.62128257751465, 42.2950382232666], 'type': 'LineString', 'coordinates': [[-85.62156915664673, 42.2950382232666], [-85.62128257751465, 42.29500675201416]]}, 'properties': {'segment_id': 1125207370, 'name': 'West Main Street / 111568112 / 1', 'segment_ty': 'primary', 'Zone ID': 1125207370, 'Day Type': '0: All Days (M-Su)', 'Average Daily Segment Traffic (StL Volume)': 11469, 'Avg Segment Speed (mph)': 38, 'Free Flow Speed (mph)': 44.745, '85th Speed Percentile': 46}}\n",
      "{'type': 'Feature', 'geometry': {'bbox': [-85.61107873916626, 42.294190883636475, -85.60991668701172, 42.29434299468994], 'type': 'LineString', 'coordinates': [[-85.61107873916626, 42.29434299468994], [-85.61027097702026, 42.2942373752594], [-85.61022996902467, 42.29423189163209], [-85.60991668701172, 42.294190883636475]]}, 'properties': {'segment_id': 1125243663, 'name': 'West Main Street / 264453853 / 3', 'segment_ty': 'primary', 'Zone ID': 1125243663, 'Day Type': '0: All Days (M-Su)', 'Average Daily Segment Traffic (StL Volume)': 12364, 'Avg Segment Speed (mph)': 36, 'Free Flow Speed (mph)': 43.163, '85th Speed Percentile': 43}}\n",
      "{'type': 'Feature', 'geometry': {'bbox': [-85.6434736251831, 42.29625177383423, -85.640380859375, 42.29626679420471], 'type': 'LineString', 'coordinates': [[-85.6434736251831, 42.29626679420471], [-85.6432375907898, 42.296265840530396], [-85.64289140701294, 42.29626417160034], [-85.64250135421753, 42.29626226425171], [-85.6424412727356, 42.29626178741455], [-85.64226484298706, 42.29626107215881], [-85.64181709289551, 42.2962589263916], [-85.64167070388794, 42.296258211135864], [-85.64140892028809, 42.29625678062439], [-85.6412501335144, 42.29625606536865], [-85.640380859375, 42.29625177383423]]}, 'properties': {'segment_id': 1126486182, 'name': 'West Main Street / 264373332 / 1', 'segment_ty': 'primary', 'Zone ID': 1126486182, 'Day Type': '0: All Days (M-Su)', 'Average Daily Segment Traffic (StL Volume)': 13303, 'Avg Segment Speed (mph)': 38, 'Free Flow Speed (mph)': 45.679, '85th Speed Percentile': 46}}\n",
      "{'type': 'Feature', 'geometry': {'bbox': [-85.6578722000122, 42.29608488082886, -85.65222454071045, 42.29619336128235], 'type': 'LineString', 'coordinates': [[-85.6578722000122, 42.29608488082886], [-85.65712213516235, 42.296104431152344], [-85.65692520141603, 42.296106815338135], [-85.65586996078491, 42.296119928359985], [-85.65579414367676, 42.2961208820343], [-85.65568780899048, 42.296122312545776], [-85.65520811080933, 42.296130418777466], [-85.65511703491211, 42.29613208770753], [-85.65393400192261, 42.29616189002991], [-85.65321826934814, 42.29617476463318], [-85.6529278755188, 42.29618000984192], [-85.65222454071045, 42.29619336128235]]}, 'properties': {'segment_id': 1127547849, 'name': 'West Main Street / 91750116 / 1', 'segment_ty': 'primary', 'Zone ID': 1127547849, 'Day Type': '0: All Days (M-Su)', 'Average Daily Segment Traffic (StL Volume)': 15060, 'Avg Segment Speed (mph)': 34, 'Free Flow Speed (mph)': 44.517, '85th Speed Percentile': 44}}\n",
      "{'type': 'Feature', 'geometry': {'bbox': [-85.61532497406006, 42.294741868972785, -85.6147255897522, 42.29477095603943], 'type': 'LineString', 'coordinates': [[-85.61532497406006, 42.29477095603943], [-85.61519765853882, 42.29476475715637], [-85.6147255897522, 42.294741868972785]]}, 'properties': {'segment_id': 1127555409, 'name': 'West Main Street / 111568112 / 11', 'segment_ty': 'primary', 'Zone ID': 1127555409, 'Day Type': '0: All Days (M-Su)', 'Average Daily Segment Traffic (StL Volume)': 11399, 'Avg Segment Speed (mph)': 38, 'Free Flow Speed (mph)': 43.146, '85th Speed Percentile': 44}}\n",
      "{'type': 'Feature', 'geometry': {'bbox': [-85.6360535621643, 42.29620385169983, -85.63362455368042, 42.29622983932496], 'type': 'LineString', 'coordinates': [[-85.6360535621643, 42.29622983932496], [-85.63510799407959, 42.29621982574463], [-85.63432216644287, 42.29621148109436], [-85.63362455368042, 42.29620385169983]]}, 'properties': {'segment_id': 1127606933, 'name': 'West Main Street / 264373332 / 5', 'segment_ty': 'primary', 'Zone ID': 1127606933, 'Day Type': '0: All Days (M-Su)', 'Average Daily Segment Traffic (StL Volume)': 12706, 'Avg Segment Speed (mph)': 42, 'Free Flow Speed (mph)': 47.425, '85th Speed Percentile': 48}}\n",
      "{'type': 'Feature', 'geometry': {'bbox': [-85.61900568008423, 42.29488396644592, -85.61835765838623, 42.294904947280884], 'type': 'LineString', 'coordinates': [[-85.61900568008423, 42.294904947280884], [-85.61835765838623, 42.29488396644592]]}, 'properties': {'segment_id': 1128083955, 'name': 'West Main Street / 111568112 / 5', 'segment_ty': 'primary', 'Zone ID': 1128083955, 'Day Type': '0: All Days (M-Su)', 'Average Daily Segment Traffic (StL Volume)': 11507, 'Avg Segment Speed (mph)': 39, 'Free Flow Speed (mph)': 43.776, '85th Speed Percentile': 45}}\n",
      "{'type': 'Feature', 'geometry': {'bbox': [-85.60006427764893, 42.2921690940857, -85.59903335571289, 42.29229164123535], 'type': 'LineString', 'coordinates': [[-85.60006427764893, 42.29229164123535], [-85.59903335571289, 42.2921690940857]]}, 'properties': {'segment_id': 1128322303, 'name': 'West Main Street / 453308405 / 1', 'segment_ty': 'primary', 'Zone ID': 1128322303, 'Day Type': '0: All Days (M-Su)', 'Average Daily Segment Traffic (StL Volume)': 12982, 'Avg Segment Speed (mph)': 41, 'Free Flow Speed (mph)': 45.443, '85th Speed Percentile': 48}}\n",
      "{'type': 'Feature', 'geometry': {'bbox': [-85.63362455368042, 42.296188831329346, -85.63055086135864, 42.29620385169983], 'type': 'LineString', 'coordinates': [[-85.63362455368042, 42.29620385169983], [-85.63253355026245, 42.296201944351196], [-85.63119602203369, 42.296194076538086], [-85.63101625442505, 42.2961928844452], [-85.63055086135864, 42.296188831329346]]}, 'properties': {'segment_id': 1128411227, 'name': 'West Main Street / 264373332 / 6', 'segment_ty': 'primary', 'Zone ID': 1128411227, 'Day Type': '0: All Days (M-Su)', 'Average Daily Segment Traffic (StL Volume)': 12539, 'Avg Segment Speed (mph)': 40, 'Free Flow Speed (mph)': 46.605, '85th Speed Percentile': 47}}\n",
      "{'type': 'Feature', 'geometry': {'bbox': [-85.64817810058595, 42.29626536369324, -85.64669895172119, 42.29627180099487], 'type': 'LineString', 'coordinates': [[-85.64817810058595, 42.29626536369324], [-85.64792776107788, 42.29626655578613], [-85.64734983444214, 42.2962691783905], [-85.64707565307617, 42.2962703704834], [-85.64669895172119, 42.29627180099487]]}, 'properties': {'segment_id': 1128420335, 'name': 'West Main Street / 887859388 / 1', 'segment_ty': 'primary', 'Zone ID': 1128420335, 'Day Type': '0: All Days (M-Su)', 'Average Daily Segment Traffic (StL Volume)': 15273, 'Avg Segment Speed (mph)': 31, 'Free Flow Speed (mph)': 39.681, '85th Speed Percentile': 39}}\n",
      "{'type': 'Feature', 'geometry': {'bbox': [-85.60387849807739, 42.292479038238525, -85.60145568847656, 42.29307198524475], 'type': 'LineString', 'coordinates': [[-85.60387849807739, 42.29307198524475], [-85.60377359390259, 42.29304242134094], [-85.60277557373047, 42.292755365371704], [-85.60233068466187, 42.29263496398926], [-85.60215091705322, 42.292590856552124], [-85.60156059265137, 42.29249382019043], [-85.60145568847656, 42.292479038238525]]}, 'properties': {'segment_id': 1128916291, 'name': 'West Main Street / 1107624155 / 2', 'segment_ty': 'primary', 'Zone ID': 1128916291, 'Day Type': '0: All Days (M-Su)', 'Average Daily Segment Traffic (StL Volume)': 11815, 'Avg Segment Speed (mph)': 41, 'Free Flow Speed (mph)': 44.978, '85th Speed Percentile': 48}}\n",
      "{'type': 'Feature', 'geometry': {'bbox': [-85.64403963088989, 42.29626679420471, -85.6434736251831, 42.29626989364624], 'type': 'LineString', 'coordinates': [[-85.64403963088989, 42.29626989364624], [-85.6437611579895, 42.296268463134766], [-85.64352035522462, 42.29626703262329], [-85.6434736251831, 42.29626679420471]]}, 'properties': {'segment_id': 1129287098, 'name': 'West Main Street / 727669558 / 2', 'segment_ty': 'primary', 'Zone ID': 1129287098, 'Day Type': '0: All Days (M-Su)', 'Average Daily Segment Traffic (StL Volume)': 14973, 'Avg Segment Speed (mph)': 35, 'Free Flow Speed (mph)': 45.127, '85th Speed Percentile': 45}}\n",
      "{'type': 'Feature', 'geometry': {'bbox': [-85.61232089996338, 42.29434299468994, -85.61107873916626, 42.294497966766365], 'type': 'LineString', 'coordinates': [[-85.61232089996338, 42.294497966766365], [-85.61184549331665, 42.29444169998169], [-85.61141777038574, 42.29439091682434], [-85.61107873916626, 42.29434299468994]]}, 'properties': {'segment_id': 1129532305, 'name': 'West Main Street / 264453853 / 2', 'segment_ty': 'primary', 'Zone ID': 1129532305, 'Day Type': '0: All Days (M-Su)', 'Average Daily Segment Traffic (StL Volume)': 12271, 'Avg Segment Speed (mph)': 33, 'Free Flow Speed (mph)': 43.5, '85th Speed Percentile': 43}}\n",
      "{'type': 'Feature', 'geometry': {'bbox': [-85.62104654312135, 42.294949769973755, -85.62017774581909, 42.294994592666626], 'type': 'LineString', 'coordinates': [[-85.62104654312135, 42.294994592666626], [-85.62017774581909, 42.294949769973755]]}, 'properties': {'segment_id': 1130343371, 'name': 'West Main Street / 111568112 / 3', 'segment_ty': 'primary', 'Zone ID': 1130343371, 'Day Type': '0: All Days (M-Su)', 'Average Daily Segment Traffic (StL Volume)': 11372, 'Avg Segment Speed (mph)': 36, 'Free Flow Speed (mph)': 43.701, '85th Speed Percentile': 45}}\n",
      "{'type': 'Feature', 'geometry': {'bbox': [-85.59590435028076, 42.291563510894775, -85.59413862228394, 42.29177737236023], 'type': 'LineString', 'coordinates': [[-85.59590435028076, 42.29177737236023], [-85.5951361656189, 42.291680574417114], [-85.59496736526489, 42.29165959358215], [-85.59493589401245, 42.29165554046631], [-85.59488010406494, 42.29165029525757], [-85.59481143951416, 42.29164218902588], [-85.59447765350342, 42.291603088378906], [-85.59413862228394, 42.291563510894775]]}, 'properties': {'segment_id': 1130909982, 'name': 'West Main Street / 843368528 / 4', 'segment_ty': 'primary', 'Zone ID': 1130909982, 'Day Type': '0: All Days (M-Su)', 'Average Daily Segment Traffic (StL Volume)': 15438, 'Avg Segment Speed (mph)': 27, 'Free Flow Speed (mph)': 32.856, '85th Speed Percentile': 37}}\n",
      "{'type': 'Feature', 'geometry': {'bbox': [-85.62469959259033, 42.29515790939331, -85.62387752532959, 42.29530882835388], 'type': 'LineString', 'coordinates': [[-85.62469959259033, 42.29530882835388], [-85.62387752532959, 42.29515790939331]]}, 'properties': {'segment_id': 1131598426, 'name': 'West Main Street / 727695181 / 2', 'segment_ty': 'primary', 'Zone ID': 1131598426, 'Day Type': '0: All Days (M-Su)', 'Average Daily Segment Traffic (StL Volume)': 11462, 'Avg Segment Speed (mph)': 38, 'Free Flow Speed (mph)': 43.777, '85th Speed Percentile': 44}}\n",
      "{'type': 'Feature', 'geometry': {'bbox': [-85.59770822525024, 42.29196286201477, -85.5974268913269, 42.29200267791748], 'type': 'LineString', 'coordinates': [[-85.59770822525024, 42.29200267791748], [-85.5974268913269, 42.29196286201477]]}, 'properties': {'segment_id': 1131761198, 'name': 'West Main Street / 843368528 / 2', 'segment_ty': 'primary', 'Zone ID': 1131761198, 'Day Type': '0: All Days (M-Su)', 'Average Daily Segment Traffic (StL Volume)': 15551, 'Avg Segment Speed (mph)': 38, 'Free Flow Speed (mph)': 42.018, '85th Speed Percentile': 45}}\n",
      "{'type': 'Feature', 'geometry': {'bbox': [-85.62866115570068, 42.29606223106384, -85.62825775146484, 42.29612183570862], 'type': 'LineString', 'coordinates': [[-85.62866115570068, 42.29612183570862], [-85.62825775146484, 42.29606223106384]]}, 'properties': {'segment_id': 1131825456, 'name': 'West Main Street / 289748067 / 1', 'segment_ty': 'primary', 'Zone ID': 1131825456, 'Day Type': '0: All Days (M-Su)', 'Average Daily Segment Traffic (StL Volume)': 9215, 'Avg Segment Speed (mph)': 38, 'Free Flow Speed (mph)': 44.275, '85th Speed Percentile': 44}}\n",
      "{'type': 'Feature', 'geometry': {'bbox': [-85.59903335571289, 42.29211211204529, -85.59860134124756, 42.2921690940857], 'type': 'LineString', 'coordinates': [[-85.59903335571289, 42.2921690940857], [-85.59860134124756, 42.29211211204529]]}, 'properties': {'segment_id': 1132064737, 'name': 'West Main Street / 41066286 / 1', 'segment_ty': 'primary', 'Zone ID': 1132064737, 'Day Type': '0: All Days (M-Su)', 'Average Daily Segment Traffic (StL Volume)': 15528, 'Avg Segment Speed (mph)': 39, 'Free Flow Speed (mph)': 42.63, '85th Speed Percentile': 47}}\n",
      "{'type': 'Feature', 'geometry': {'bbox': [-85.5974268913269, 42.29177737236023, -85.59590435028076, 42.29196286201477], 'type': 'LineString', 'coordinates': [[-85.5974268913269, 42.29196286201477], [-85.59677743911743, 42.29188370704651], [-85.59590435028076, 42.29177737236023]]}, 'properties': {'segment_id': 1133022259, 'name': 'West Main Street / 843368528 / 3', 'segment_ty': 'primary', 'Zone ID': 1133022259, 'Day Type': '0: All Days (M-Su)', 'Average Daily Segment Traffic (StL Volume)': 15443, 'Avg Segment Speed (mph)': 36, 'Free Flow Speed (mph)': 40.499, '85th Speed Percentile': 43}}\n",
      "{'type': 'Feature', 'geometry': {'bbox': [-85.60599565505981, 42.29307198524475, -85.60387849807739, 42.293702840805054], 'type': 'LineString', 'coordinates': [[-85.60599565505981, 42.293702840805054], [-85.60566854476929, 42.29360795021057], [-85.60555124282837, 42.29357600212097], [-85.60539150238037, 42.293532609939575], [-85.6051607131958, 42.29346990585327], [-85.60506629943848, 42.2934410572052], [-85.60476779937744, 42.29334998130799], [-85.60446786880493, 42.29325461387634], [-85.60416555404663, 42.293158769607544], [-85.60387849807739, 42.29307198524475]]}, 'properties': {'segment_id': 1134093812, 'name': 'West Main Street / 1107624155 / 1', 'segment_ty': 'primary', 'Zone ID': 1134093812, 'Day Type': '0: All Days (M-Su)', 'Average Daily Segment Traffic (StL Volume)': 11895, 'Avg Segment Speed (mph)': 41, 'Free Flow Speed (mph)': 45.232, '85th Speed Percentile': 47}}\n",
      "{'type': 'Feature', 'geometry': {'bbox': [-85.640380859375, 42.296244859695435, -85.63910818099976, 42.29625177383423], 'type': 'LineString', 'coordinates': [[-85.640380859375, 42.29625177383423], [-85.63999843597412, 42.296249866485596], [-85.63910818099976, 42.296244859695435]]}, 'properties': {'segment_id': 1134603067, 'name': 'West Main Street / 264373332 / 2', 'segment_ty': 'primary', 'Zone ID': 1134603067, 'Day Type': '0: All Days (M-Su)', 'Average Daily Segment Traffic (StL Volume)': 13530, 'Avg Segment Speed (mph)': 35, 'Free Flow Speed (mph)': 45.289, '85th Speed Percentile': 44}}\n",
      "{'type': 'Feature', 'geometry': {'bbox': [-85.60703182220459, 42.293702840805054, -85.60599565505981, 42.29390287399292], 'type': 'LineString', 'coordinates': [[-85.60703182220459, 42.29390287399292], [-85.60679054260254, 42.293877840042114], [-85.60661363601685, 42.29385089874268], [-85.60648393630981, 42.29382681846619], [-85.60645771026611, 42.293821811676025], [-85.60630178451538, 42.2937867641449], [-85.60599565505981, 42.293702840805054]]}, 'properties': {'segment_id': 1135387927, 'name': 'West Main Street / 264453853 / 6', 'segment_ty': 'primary', 'Zone ID': 1135387927, 'Day Type': '0: All Days (M-Su)', 'Average Daily Segment Traffic (StL Volume)': 12031, 'Avg Segment Speed (mph)': 40, 'Free Flow Speed (mph)': 43.792, '85th Speed Percentile': 46}}\n",
      "{'type': 'Feature', 'geometry': {'bbox': [-85.62825775146484, 42.295705795288086, -85.62646865844727, 42.29606223106384], 'type': 'LineString', 'coordinates': [[-85.62825775146484, 42.29606223106384], [-85.62808465957642, 42.296040773391724], [-85.62775325775146, 42.29598116874695], [-85.62763977050781, 42.29595994949341], [-85.62724208831787, 42.295881271362305], [-85.62714958190918, 42.295862913131714], [-85.62698411941528, 42.29582476615906], [-85.62660074234009, 42.29573631286622], [-85.62646865844727, 42.295705795288086]]}, 'properties': {'segment_id': 1135510752, 'name': 'West Main Street / 289748067 / 2', 'segment_ty': 'primary', 'Zone ID': 1135510752, 'Day Type': '0: All Days (M-Su)', 'Average Daily Segment Traffic (StL Volume)': 9173, 'Avg Segment Speed (mph)': 31, 'Free Flow Speed (mph)': 40.992, '85th Speed Percentile': 42}}\n",
      "{'type': 'Feature', 'geometry': {'bbox': [-85.6147255897522, 42.29464578628541, -85.61352968215942, 42.294741868972785], 'type': 'LineString', 'coordinates': [[-85.6147255897522, 42.294741868972785], [-85.61462879180908, 42.294737577438354], [-85.61435317993164, 42.29472494125366], [-85.61408996582031, 42.29471278190613], [-85.61379766464233, 42.29467797279358], [-85.61352968215942, 42.29464578628541]]}, 'properties': {'segment_id': 1136121957, 'name': 'West Main Street / 111568112 / 12', 'segment_ty': 'primary', 'Zone ID': 1136121957, 'Day Type': '0: All Days (M-Su)', 'Average Daily Segment Traffic (StL Volume)': 11274, 'Avg Segment Speed (mph)': 37, 'Free Flow Speed (mph)': 43.397, '85th Speed Percentile': 44}}\n",
      "{'type': 'Feature', 'geometry': {'bbox': [-85.62256813049316, 42.29505896568298, -85.62190866470337, 42.29507637023926], 'type': 'LineString', 'coordinates': [[-85.62256813049316, 42.29507637023926], [-85.62190866470337, 42.29505896568298]]}, 'properties': {'segment_id': 1136197293, 'name': 'West Main Street / 727695181 / 5', 'segment_ty': 'primary', 'Zone ID': 1136197293, 'Day Type': '0: All Days (M-Su)', 'Average Daily Segment Traffic (StL Volume)': 11481, 'Avg Segment Speed (mph)': 39, 'Free Flow Speed (mph)': 44.87, '85th Speed Percentile': 46}}\n",
      "{'type': 'Feature', 'geometry': {'bbox': [-85.59413862228394, 42.29151272773743, -85.59363603591919, 42.291563510894775], 'type': 'LineString', 'coordinates': [[-85.59413862228394, 42.291563510894775], [-85.59385585784912, 42.29153490066528], [-85.59381198883057, 42.29153037071228], [-85.59363603591919, 42.29151272773743]]}, 'properties': {'segment_id': 1136271768, 'name': 'West Main Street / 843368528 / 5', 'segment_ty': 'primary', 'Zone ID': 1136271768, 'Day Type': '0: All Days (M-Su)', 'Average Daily Segment Traffic (StL Volume)': 15427, 'Avg Segment Speed (mph)': 19, 'Free Flow Speed (mph)': 21.797, '85th Speed Percentile': 32}}\n"
     ]
    }
   ],
   "source": [
    "new_gj = {'type': 'FeatureCollection', 'features': []}\n",
    "for f in west_main_geo['features']:\n",
    "    f['properties'].update(data[f['properties']['segment_id']])\n",
    "    new_gj['features'].append(f)\n",
    "# new_gj"
   ]
  },
  {
   "cell_type": "code",
   "execution_count": 68,
   "metadata": {},
   "outputs": [
    {
     "data": {
      "text/plain": [
       "53"
      ]
     },
     "execution_count": 68,
     "metadata": {},
     "output_type": "execute_result"
    }
   ],
   "source": []
  }
 ],
 "metadata": {
  "kernelspec": {
   "display_name": ".venv",
   "language": "python",
   "name": "python3"
  },
  "language_info": {
   "codemirror_mode": {
    "name": "ipython",
    "version": 3
   },
   "file_extension": ".py",
   "mimetype": "text/x-python",
   "name": "python",
   "nbconvert_exporter": "python",
   "pygments_lexer": "ipython3",
   "version": "3.11.10"
  }
 },
 "nbformat": 4,
 "nbformat_minor": 2
}
