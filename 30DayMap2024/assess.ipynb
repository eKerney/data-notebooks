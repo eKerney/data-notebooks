{
 "cells": [
  {
   "cell_type": "code",
   "execution_count": 1,
   "metadata": {},
   "outputs": [],
   "source": [
    "import pandas as pd\n",
    "import numpy as np\n",
    "import os"
   ]
  },
  {
   "cell_type": "code",
   "execution_count": 2,
   "metadata": {},
   "outputs": [
    {
     "name": "stdout",
     "output_type": "stream",
     "text": [
      "15\n"
     ]
    }
   ],
   "source": [
    "a = [1,2,3,4,5]\n",
    "sum = 0\n",
    "for ele in a:\n",
    "    sum += ele\n",
    "print(sum)"
   ]
  },
  {
   "cell_type": "code",
   "execution_count": null,
   "metadata": {},
   "outputs": [],
   "source": [
    "for x in [0,1,2,3]:\n",
    "    for y in [0,1,2,3,4]:\n",
    "        print('*')\n",
    "    "
   ]
  },
  {
   "cell_type": "code",
   "execution_count": 5,
   "metadata": {},
   "outputs": [
    {
     "name": "stdout",
     "output_type": "stream",
     "text": [
      "wlk\n"
     ]
    }
   ],
   "source": [
    "def mystery(str):\n",
    "    out = \"\"\n",
    "    for char in str:\n",
    "        if char == \"i\":\n",
    "            break \n",
    "        if char == 'a':\n",
    "            continue \n",
    "        out += char\n",
    "    return out \n",
    "\n",
    "print(mystery(\"walking\"))"
   ]
  },
  {
   "cell_type": "code",
   "execution_count": 12,
   "metadata": {},
   "outputs": [
    {
     "name": "stdout",
     "output_type": "stream",
     "text": [
      "21 / 3 = 0\n",
      "7.0\n",
      "0\n",
      "21 / 3 = 1\n",
      "7.0\n",
      "1\n",
      "21 / 3 = 2\n",
      "7.0\n",
      "2\n",
      "21 / 3 = 3\n",
      "7.0\n",
      "3\n",
      "21 / 3 = 4\n",
      "7.0\n",
      "4\n",
      "21 / 3 = 5\n",
      "7.0\n",
      "5\n",
      "21 / 3 = 6\n",
      "7.0\n",
      "6\n",
      "21 / 3 = 7\n",
      "7.0\n",
      "7\n",
      "Missing digit: 7\n"
     ]
    }
   ],
   "source": [
    "def solve_equation(equation):\n",
    "    # Replace the unknown '?' with 'x' to use Python's eval capabilities\n",
    "    equation = equation.replace('?', 'x')\n",
    "    for digit in range(10):  # Test digits 0-9\n",
    "        test_equation = equation.replace('x', str(digit))\n",
    "        try:\n",
    "            print(test_equation)\n",
    "            print(eval(test_equation.split('=')[0]))\n",
    "            print(int(test_equation.split('=')[1]))\n",
    "            if eval(test_equation.split('=')[0]) == int(test_equation.split('=')[1]):\n",
    "                return digit\n",
    "        except:\n",
    "            continue\n",
    "    return None  # No solution found\n",
    "\n",
    "# Example usage\n",
    "equation = \"21 / 3 = x\"\n",
    "missing_digit = solve_equation(equation)\n",
    "print(f\"Missing digit: {missing_digit}\")\n"
   ]
  }
 ],
 "metadata": {
  "kernelspec": {
   "display_name": ".venv",
   "language": "python",
   "name": "python3"
  },
  "language_info": {
   "codemirror_mode": {
    "name": "ipython",
    "version": 3
   },
   "file_extension": ".py",
   "mimetype": "text/x-python",
   "name": "python",
   "nbconvert_exporter": "python",
   "pygments_lexer": "ipython3",
   "version": "3.11.10"
  }
 },
 "nbformat": 4,
 "nbformat_minor": 2
}
