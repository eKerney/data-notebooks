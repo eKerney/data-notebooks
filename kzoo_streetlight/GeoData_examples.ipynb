{
 "cells": [
  {
   "cell_type": "markdown",
   "metadata": {},
   "source": [
    "### Testing input types"
   ]
  },
  {
   "cell_type": "code",
   "execution_count": null,
   "metadata": {},
   "outputs": [
    {
     "data": {
      "text/html": [
       "<div>\n",
       "<style scoped>\n",
       "    .dataframe tbody tr th:only-of-type {\n",
       "        vertical-align: middle;\n",
       "    }\n",
       "\n",
       "    .dataframe tbody tr th {\n",
       "        vertical-align: top;\n",
       "    }\n",
       "\n",
       "    .dataframe thead th {\n",
       "        text-align: right;\n",
       "    }\n",
       "</style>\n",
       "<table border=\"1\" class=\"dataframe\">\n",
       "  <thead>\n",
       "    <tr style=\"text-align: right;\">\n",
       "      <th></th>\n",
       "      <th>scalerank</th>\n",
       "      <th>featurecla</th>\n",
       "      <th>LABELRANK</th>\n",
       "      <th>SOVEREIGNT</th>\n",
       "      <th>SOV_A3</th>\n",
       "      <th>ADM0_DIF</th>\n",
       "      <th>LEVEL</th>\n",
       "      <th>TYPE</th>\n",
       "      <th>ADMIN</th>\n",
       "      <th>ADM0_A3</th>\n",
       "      <th>...</th>\n",
       "      <th>REGION_WB</th>\n",
       "      <th>NAME_LEN</th>\n",
       "      <th>LONG_LEN</th>\n",
       "      <th>ABBREV_LEN</th>\n",
       "      <th>TINY</th>\n",
       "      <th>HOMEPART</th>\n",
       "      <th>MIN_ZOOM</th>\n",
       "      <th>MIN_LABEL</th>\n",
       "      <th>MAX_LABEL</th>\n",
       "      <th>geometry</th>\n",
       "    </tr>\n",
       "  </thead>\n",
       "  <tbody>\n",
       "    <tr>\n",
       "      <th>0</th>\n",
       "      <td>1</td>\n",
       "      <td>Admin-0 country</td>\n",
       "      <td>3.0</td>\n",
       "      <td>Afghanistan</td>\n",
       "      <td>AFG</td>\n",
       "      <td>0.0</td>\n",
       "      <td>2.0</td>\n",
       "      <td>Sovereign country</td>\n",
       "      <td>Afghanistan</td>\n",
       "      <td>AFG</td>\n",
       "      <td>...</td>\n",
       "      <td>South Asia</td>\n",
       "      <td>11.0</td>\n",
       "      <td>11.0</td>\n",
       "      <td>4.0</td>\n",
       "      <td>-99.0</td>\n",
       "      <td>1.0</td>\n",
       "      <td>0.0</td>\n",
       "      <td>3.0</td>\n",
       "      <td>7.0</td>\n",
       "      <td>POLYGON ((61.21082 35.65007, 62.23065 35.27066...</td>\n",
       "    </tr>\n",
       "    <tr>\n",
       "      <th>1</th>\n",
       "      <td>1</td>\n",
       "      <td>Admin-0 country</td>\n",
       "      <td>3.0</td>\n",
       "      <td>Angola</td>\n",
       "      <td>AGO</td>\n",
       "      <td>0.0</td>\n",
       "      <td>2.0</td>\n",
       "      <td>Sovereign country</td>\n",
       "      <td>Angola</td>\n",
       "      <td>AGO</td>\n",
       "      <td>...</td>\n",
       "      <td>Sub-Saharan Africa</td>\n",
       "      <td>6.0</td>\n",
       "      <td>6.0</td>\n",
       "      <td>4.0</td>\n",
       "      <td>-99.0</td>\n",
       "      <td>1.0</td>\n",
       "      <td>0.0</td>\n",
       "      <td>3.0</td>\n",
       "      <td>7.0</td>\n",
       "      <td>MULTIPOLYGON (((23.90415 -11.72228, 24.07991 -...</td>\n",
       "    </tr>\n",
       "  </tbody>\n",
       "</table>\n",
       "<p>2 rows × 72 columns</p>\n",
       "</div>"
      ],
      "text/plain": [
       "   scalerank       featurecla  LABELRANK   SOVEREIGNT SOV_A3  ADM0_DIF  LEVEL  \\\n",
       "0          1  Admin-0 country        3.0  Afghanistan    AFG       0.0    2.0   \n",
       "1          1  Admin-0 country        3.0       Angola    AGO       0.0    2.0   \n",
       "\n",
       "                TYPE        ADMIN ADM0_A3  ...           REGION_WB NAME_LEN  \\\n",
       "0  Sovereign country  Afghanistan     AFG  ...          South Asia     11.0   \n",
       "1  Sovereign country       Angola     AGO  ...  Sub-Saharan Africa      6.0   \n",
       "\n",
       "  LONG_LEN  ABBREV_LEN  TINY HOMEPART  MIN_ZOOM MIN_LABEL MAX_LABEL  \\\n",
       "0     11.0         4.0 -99.0      1.0       0.0       3.0       7.0   \n",
       "1      6.0         4.0 -99.0      1.0       0.0       3.0       7.0   \n",
       "\n",
       "                                            geometry  \n",
       "0  POLYGON ((61.21082 35.65007, 62.23065 35.27066...  \n",
       "1  MULTIPOLYGON (((23.90415 -11.72228, 24.07991 -...  \n",
       "\n",
       "[2 rows x 72 columns]"
      ]
     },
     "metadata": {},
     "output_type": "display_data"
    }
   ],
   "source": [
    "url_path = 'https://raw.githubusercontent.com/martynafford/natural-earth-geojson/refs/heads/master/110m/cultural/ne_110m_admin_0_countries.json'\n",
    "geo_data = GeoData(url_path, InputTypes.DATA_URL, row_filter=2)\n",
    "geo_data.gdf"
   ]
  },
  {
   "cell_type": "code",
   "execution_count": null,
   "metadata": {},
   "outputs": [],
   "source": [
    "url_path = 'https://raw.githubusercontent.com/eKerney/dataStore2/refs/heads/main/wayneGroundObs.geojson'\n",
    "geo_data = GeoData(url_path, InputTypes.DATA_URL, row_filter=3)\n",
    "geo_data.gdf.head()"
   ]
  },
  {
   "cell_type": "code",
   "execution_count": null,
   "metadata": {},
   "outputs": [
    {
     "data": {
      "text/html": [
       "<div>\n",
       "<style scoped>\n",
       "    .dataframe tbody tr th:only-of-type {\n",
       "        vertical-align: middle;\n",
       "    }\n",
       "\n",
       "    .dataframe tbody tr th {\n",
       "        vertical-align: top;\n",
       "    }\n",
       "\n",
       "    .dataframe thead th {\n",
       "        text-align: right;\n",
       "    }\n",
       "</style>\n",
       "<table border=\"1\" class=\"dataframe\">\n",
       "  <thead>\n",
       "    <tr style=\"text-align: right;\">\n",
       "      <th></th>\n",
       "      <th>segment_id</th>\n",
       "      <th>name</th>\n",
       "      <th>segment_ty</th>\n",
       "      <th>geometry</th>\n",
       "    </tr>\n",
       "  </thead>\n",
       "  <tbody>\n",
       "    <tr>\n",
       "      <th>0</th>\n",
       "      <td>1111503841</td>\n",
       "      <td>West Main Street / 111568112 / 7</td>\n",
       "      <td>primary</td>\n",
       "      <td>LINESTRING (-85.61777 42.29486, -85.61716 42.2...</td>\n",
       "    </tr>\n",
       "    <tr>\n",
       "      <th>1</th>\n",
       "      <td>1111754274</td>\n",
       "      <td>West Main Street / 727695179 / 1</td>\n",
       "      <td>primary</td>\n",
       "      <td>LINESTRING (-85.62555 42.2955, -85.62523 42.29...</td>\n",
       "    </tr>\n",
       "    <tr>\n",
       "      <th>2</th>\n",
       "      <td>1111871475</td>\n",
       "      <td>West Main Street / 264373332 / 7</td>\n",
       "      <td>primary</td>\n",
       "      <td>LINESTRING (-85.63055 42.29619, -85.62977 42.2...</td>\n",
       "    </tr>\n",
       "  </tbody>\n",
       "</table>\n",
       "</div>"
      ],
      "text/plain": [
       "   segment_id                              name segment_ty  \\\n",
       "0  1111503841  West Main Street / 111568112 / 7    primary   \n",
       "1  1111754274  West Main Street / 727695179 / 1    primary   \n",
       "2  1111871475  West Main Street / 264373332 / 7    primary   \n",
       "\n",
       "                                            geometry  \n",
       "0  LINESTRING (-85.61777 42.29486, -85.61716 42.2...  \n",
       "1  LINESTRING (-85.62555 42.2955, -85.62523 42.29...  \n",
       "2  LINESTRING (-85.63055 42.29619, -85.62977 42.2...  "
      ]
     },
     "metadata": {},
     "output_type": "display_data"
    }
   ],
   "source": [
    "file_path = '/home/pi/dev/notebooks/30DayMap2024/data/kzoo_street_12225/1861928_West_Main_Street/Shapefile/1861928_West_Main_Street_osm_segment.geojson'\n",
    "geo_data = GeoData(file_path, InputTypes.DATA_PATH)\n",
    "geo_data.gdf.head(3)"
   ]
  },
  {
   "cell_type": "code",
   "execution_count": null,
   "metadata": {},
   "outputs": [
    {
     "name": "stdout",
     "output_type": "stream",
     "text": [
      "GeoJSON output: ../testing.geojson\n"
     ]
    }
   ],
   "source": [
    "geo_data.export_geojson('../testing')"
   ]
  }
 ],
 "metadata": {
  "language_info": {
   "name": "python"
  }
 },
 "nbformat": 4,
 "nbformat_minor": 2
}
