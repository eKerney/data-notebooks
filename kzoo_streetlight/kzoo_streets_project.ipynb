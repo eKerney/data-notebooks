{
 "cells": [
  {
   "cell_type": "code",
   "execution_count": 16,
   "metadata": {},
   "outputs": [],
   "source": [
    "import pandas as pd\n",
    "import json\n",
    "import os\n",
    "import numpy as np"
   ]
  },
  {
   "cell_type": "code",
   "execution_count": 2,
   "metadata": {},
   "outputs": [
    {
     "data": {
      "text/plain": [
       "'/home/pi/dev/notebooks/30DayMap2024/data/kzoo_street_12225/1861928_West_Main_Street'"
      ]
     },
     "execution_count": 2,
     "metadata": {},
     "output_type": "execute_result"
    }
   ],
   "source": [
    "os.chdir('/home/pi/dev/notebooks/30DayMap2024/data/kzoo_street_12225')\n",
    "dirs = os.listdir()\n",
    "os.chdir(dirs[0])\n",
    "os.getcwd()"
   ]
  },
  {
   "cell_type": "code",
   "execution_count": 13,
   "metadata": {},
   "outputs": [
    {
     "data": {
      "text/html": [
       "<div>\n",
       "<style scoped>\n",
       "    .dataframe tbody tr th:only-of-type {\n",
       "        vertical-align: middle;\n",
       "    }\n",
       "\n",
       "    .dataframe tbody tr th {\n",
       "        vertical-align: top;\n",
       "    }\n",
       "\n",
       "    .dataframe thead th {\n",
       "        text-align: right;\n",
       "    }\n",
       "</style>\n",
       "<table border=\"1\" class=\"dataframe\">\n",
       "  <thead>\n",
       "    <tr style=\"text-align: right;\">\n",
       "      <th></th>\n",
       "      <th>Data Periods</th>\n",
       "      <th>Mode of Travel</th>\n",
       "      <th>Zone ID</th>\n",
       "      <th>Zone Name</th>\n",
       "      <th>Road Classification</th>\n",
       "      <th>Line Zone Length (Miles)</th>\n",
       "      <th>Zone Is Pass Through</th>\n",
       "      <th>Zone Direction (degrees)</th>\n",
       "      <th>Zone Cardinal Direction</th>\n",
       "      <th>Zone is Bi-Direction</th>\n",
       "      <th>Day Type</th>\n",
       "      <th>Day Part</th>\n",
       "      <th>Average Daily Segment Traffic (StL Volume)</th>\n",
       "      <th>Avg Segment Speed (mph)</th>\n",
       "      <th>Avg Segment Travel Time (sec)</th>\n",
       "      <th>Free Flow Speed (mph)</th>\n",
       "      <th>Vehicle Miles of Travel (StL Volume)</th>\n",
       "      <th>Travel Time Index</th>\n",
       "      <th>Congested Segment</th>\n",
       "      <th>85th Speed Percentile</th>\n",
       "    </tr>\n",
       "  </thead>\n",
       "  <tbody>\n",
       "    <tr>\n",
       "      <th>0</th>\n",
       "      <td>Jan 01, 2022 - Dec 31, 2023</td>\n",
       "      <td>All Vehicles - StL All Vehicles Volume</td>\n",
       "      <td>1111503841</td>\n",
       "      <td>West Main Street / 111568112 / 7</td>\n",
       "      <td>Primary</td>\n",
       "      <td>0.031</td>\n",
       "      <td>yes</td>\n",
       "      <td>92</td>\n",
       "      <td>EAST</td>\n",
       "      <td>yes</td>\n",
       "      <td>0: All Days (M-Su)</td>\n",
       "      <td>00: All Day (12am-12am)</td>\n",
       "      <td>11509</td>\n",
       "      <td>40</td>\n",
       "      <td>3</td>\n",
       "      <td>44.303</td>\n",
       "      <td>360.04</td>\n",
       "      <td>1.12</td>\n",
       "      <td>False</td>\n",
       "      <td>45</td>\n",
       "    </tr>\n",
       "    <tr>\n",
       "      <th>1</th>\n",
       "      <td>Jan 01, 2022 - Dec 31, 2023</td>\n",
       "      <td>All Vehicles - StL All Vehicles Volume</td>\n",
       "      <td>1111503841</td>\n",
       "      <td>West Main Street / 111568112 / 7</td>\n",
       "      <td>Primary</td>\n",
       "      <td>0.031</td>\n",
       "      <td>yes</td>\n",
       "      <td>92</td>\n",
       "      <td>EAST</td>\n",
       "      <td>yes</td>\n",
       "      <td>0: All Days (M-Su)</td>\n",
       "      <td>01: 12am (12am-1am)</td>\n",
       "      <td>125</td>\n",
       "      <td>40</td>\n",
       "      <td>3</td>\n",
       "      <td>44.303</td>\n",
       "      <td>3.92</td>\n",
       "      <td>1.09</td>\n",
       "      <td>False</td>\n",
       "      <td>46</td>\n",
       "    </tr>\n",
       "  </tbody>\n",
       "</table>\n",
       "</div>"
      ],
      "text/plain": [
       "                  Data Periods                          Mode of Travel  \\\n",
       "0  Jan 01, 2022 - Dec 31, 2023  All Vehicles - StL All Vehicles Volume   \n",
       "1  Jan 01, 2022 - Dec 31, 2023  All Vehicles - StL All Vehicles Volume   \n",
       "\n",
       "      Zone ID                         Zone Name Road Classification  \\\n",
       "0  1111503841  West Main Street / 111568112 / 7             Primary   \n",
       "1  1111503841  West Main Street / 111568112 / 7             Primary   \n",
       "\n",
       "   Line Zone Length (Miles) Zone Is Pass Through  Zone Direction (degrees)  \\\n",
       "0                     0.031                  yes                        92   \n",
       "1                     0.031                  yes                        92   \n",
       "\n",
       "  Zone Cardinal Direction Zone is Bi-Direction            Day Type  \\\n",
       "0                    EAST                  yes  0: All Days (M-Su)   \n",
       "1                    EAST                  yes  0: All Days (M-Su)   \n",
       "\n",
       "                  Day Part  Average Daily Segment Traffic (StL Volume)  \\\n",
       "0  00: All Day (12am-12am)                                       11509   \n",
       "1      01: 12am (12am-1am)                                         125   \n",
       "\n",
       "   Avg Segment Speed (mph)  Avg Segment Travel Time (sec)  \\\n",
       "0                       40                              3   \n",
       "1                       40                              3   \n",
       "\n",
       "   Free Flow Speed (mph)  Vehicle Miles of Travel (StL Volume)  \\\n",
       "0                 44.303                                360.04   \n",
       "1                 44.303                                  3.92   \n",
       "\n",
       "   Travel Time Index  Congested Segment  85th Speed Percentile  \n",
       "0               1.12              False                     45  \n",
       "1               1.09              False                     46  "
      ]
     },
     "execution_count": 13,
     "metadata": {},
     "output_type": "execute_result"
    }
   ],
   "source": [
    "files = os.listdir()\n",
    "df = pd.read_csv(files[0])\n",
    "df.head(2)"
   ]
  },
  {
   "cell_type": "code",
   "execution_count": null,
   "metadata": {},
   "outputs": [
    {
     "data": {
      "text/html": [
       "<div>\n",
       "<style scoped>\n",
       "    .dataframe tbody tr th:only-of-type {\n",
       "        vertical-align: middle;\n",
       "    }\n",
       "\n",
       "    .dataframe tbody tr th {\n",
       "        vertical-align: top;\n",
       "    }\n",
       "\n",
       "    .dataframe thead th {\n",
       "        text-align: right;\n",
       "    }\n",
       "</style>\n",
       "<table border=\"1\" class=\"dataframe\">\n",
       "  <thead>\n",
       "    <tr style=\"text-align: right;\">\n",
       "      <th></th>\n",
       "      <th>Zone ID</th>\n",
       "      <th>Day Type</th>\n",
       "      <th>Average Daily Segment Traffic (StL Volume)</th>\n",
       "      <th>Avg Segment Speed (mph)</th>\n",
       "      <th>Free Flow Speed (mph)</th>\n",
       "      <th>85th Speed Percentile</th>\n",
       "    </tr>\n",
       "  </thead>\n",
       "  <tbody>\n",
       "    <tr>\n",
       "      <th>0</th>\n",
       "      <td>1111503841</td>\n",
       "      <td>0: All Days (M-Su)</td>\n",
       "      <td>11509</td>\n",
       "      <td>40</td>\n",
       "      <td>44.303</td>\n",
       "      <td>45</td>\n",
       "    </tr>\n",
       "    <tr>\n",
       "      <th>90</th>\n",
       "      <td>1111754274</td>\n",
       "      <td>0: All Days (M-Su)</td>\n",
       "      <td>11450</td>\n",
       "      <td>37</td>\n",
       "      <td>42.516</td>\n",
       "      <td>43</td>\n",
       "    </tr>\n",
       "  </tbody>\n",
       "</table>\n",
       "</div>"
      ],
      "text/plain": [
       "       Zone ID            Day Type  \\\n",
       "0   1111503841  0: All Days (M-Su)   \n",
       "90  1111754274  0: All Days (M-Su)   \n",
       "\n",
       "    Average Daily Segment Traffic (StL Volume)  Avg Segment Speed (mph)  \\\n",
       "0                                        11509                       40   \n",
       "90                                       11450                       37   \n",
       "\n",
       "    Free Flow Speed (mph)  85th Speed Percentile  \n",
       "0                  44.303                     45  \n",
       "90                 42.516                     43  "
      ]
     },
     "execution_count": 56,
     "metadata": {},
     "output_type": "execute_result"
    }
   ],
   "source": [
    "df_all = df[(df['Day Part'] == '00: All Day (12am-12am)') & (df['Day Type'] == '0: All Days (M-Su)')]\n",
    "c = df_all.columns\n",
    "df_at = df_all[[c[2], c[10], c[12], c[13], c[15], c[19]]]\n",
    "df_at.count()"
   ]
  },
  {
   "cell_type": "code",
   "execution_count": 146,
   "metadata": {},
   "outputs": [
    {
     "name": "stdout",
     "output_type": "stream",
     "text": [
      "Loaded JSON: 1861928_West_Main_Street_osm_segment.geojson\n",
      "GeoJSON output: west_main.geojson\n"
     ]
    }
   ],
   "source": [
    "url_path = 'https://raw.githubusercontent.com/eKerney/dataStore2/refs/heads/main/wayneGroundObs.geojson'\n",
    "file_path = '/home/pi/dev/notebooks/30DayMap2024/data/kzoo_street_12225/1861928_West_Main_Street/Shapefile/1861928_West_Main_Street_osm_segment.geojson'\n",
    "geojson = GeoJSONtools(file_path)\n",
    "geojson.export_file(\"west_main\")"
   ]
  },
  {
   "cell_type": "code",
   "execution_count": 144,
   "metadata": {},
   "outputs": [],
   "source": [
    "import pandas as pd\n",
    "import geopandas as gpd\n",
    "import os\n",
    "import json\n",
    "import numpy as np\n",
    "\n",
    "class GeoJSONtools:\n",
    "    def __init__(self, file_path: str=\"\"):\n",
    "        if not file_path:\n",
    "            self.geojson = None\n",
    "        elif file_path.startswith(\"https:\") or file_path.startswith(\"http:\"):\n",
    "            gdf = gpd.read_file(file_path)\n",
    "            self.geojson = json.loads(gdf.to_json())\n",
    "        else:\n",
    "            f = open(file_path)\n",
    "            splt = file_path.split('/')\n",
    "            print(f'Loaded JSON: {splt[-1]}')\n",
    "            self.geojson = json.load(f)\n",
    "\n",
    "    @property          \n",
    "    def geojson(self): \n",
    "        return self._geojson\n",
    "\n",
    "    @geojson.setter \n",
    "    def geojson(self, value):\n",
    "        self._geojson = value  \n",
    "    \n",
    "    def export_file(self, file_name=\"geojson_file.geojson\"):\n",
    "        with open((f'{file_name}.geojson'), \"w\") as outfile:\n",
    "            outfile.write(json.dumps(self.geojson))\n",
    "        print(f'GeoJSON output: {file_name}.geojson')\n"
   ]
  },
  {
   "cell_type": "code",
   "execution_count": 44,
   "metadata": {},
   "outputs": [
    {
     "name": "stdout",
     "output_type": "stream",
     "text": [
      "Loaded JSON: 1861928_West_Main_Street_osm_segment.geojson\n"
     ]
    },
    {
     "data": {
      "text/plain": [
       "53"
      ]
     },
     "execution_count": 44,
     "metadata": {},
     "output_type": "execute_result"
    }
   ],
   "source": [
    "geo_path = '/home/pi/dev/notebooks/30DayMap2024/data/kzoo_street_12225/1861928_West_Main_Street/Shapefile/1861928_West_Main_Street_osm_segment.geojson'\n",
    "west_main_geo = load_json(geo_path)\n",
    "west_main_geo['features'].__len__()"
   ]
  },
  {
   "cell_type": "code",
   "execution_count": 106,
   "metadata": {},
   "outputs": [
    {
     "data": {
      "text/plain": [
       "{'Zone ID': 1111503841,\n",
       " 'Day Type': '0: All Days (M-Su)',\n",
       " 'Average Daily Segment Traffic (StL Volume)': 11509,\n",
       " 'Avg Segment Speed (mph)': 40,\n",
       " 'Free Flow Speed (mph)': 44.303,\n",
       " '85th Speed Percentile': 45}"
      ]
     },
     "execution_count": 106,
     "metadata": {},
     "output_type": "execute_result"
    }
   ],
   "source": [
    "df_at.set_index(df_at['Zone ID'], inplace=True)\n",
    "data = df_at.to_dict('index')\n",
    "data[1111503841]"
   ]
  },
  {
   "cell_type": "code",
   "execution_count": null,
   "metadata": {},
   "outputs": [],
   "source": [
    "west_main_geo"
   ]
  },
  {
   "cell_type": "code",
   "execution_count": null,
   "metadata": {},
   "outputs": [],
   "source": [
    "new_gj = {'type': 'FeatureCollection', 'features': []}\n",
    "for f in west_main_geo['features']:\n",
    "    f['properties'].update(data[f['properties']['segment_id']])\n",
    "    new_gj['features'].append(f)\n",
    "# new_gj"
   ]
  },
  {
   "cell_type": "markdown",
   "metadata": {},
   "source": [
    "### geodata working section"
   ]
  },
  {
   "cell_type": "code",
   "execution_count": 1,
   "metadata": {},
   "outputs": [],
   "source": [
    "import os\n",
    "import importlib\n",
    "os.chdir(os.path.expanduser('geodata-py-utils'))\n",
    "import geodata_py_utils\n",
    "from geodata_py_utils import GeoData"
   ]
  },
  {
   "cell_type": "code",
   "execution_count": 2,
   "metadata": {},
   "outputs": [
    {
     "data": {
      "text/plain": [
       "<module 'geodata_py_utils' from '/home/pi/dev/notebooks/kzoo_streetlight/geodata-py-utils/geodata_py_utils/__init__.py'>"
      ]
     },
     "execution_count": 2,
     "metadata": {},
     "output_type": "execute_result"
    }
   ],
   "source": [
    "importlib.reload(geodata_py_utils)\n",
    "geodata_py_utils.GeoData.\n"
   ]
  },
  {
   "cell_type": "code",
   "execution_count": 2,
   "metadata": {},
   "outputs": [],
   "source": [
    "import pandas as pd\n",
    "pd."
   ]
  },
  {
   "cell_type": "markdown",
   "metadata": {},
   "source": [
    "### Testing input types"
   ]
  },
  {
   "cell_type": "code",
   "execution_count": 5,
   "metadata": {},
   "outputs": [
    {
     "ename": "AttributeError",
     "evalue": "'GeoData' object has no attribute '_gdf'",
     "output_type": "error",
     "traceback": [
      "\u001b[0;31m---------------------------------------------------------------------------\u001b[0m",
      "\u001b[0;31mAttributeError\u001b[0m                            Traceback (most recent call last)",
      "Cell \u001b[0;32mIn[5], line 3\u001b[0m\n\u001b[1;32m      1\u001b[0m url_path \u001b[38;5;241m=\u001b[39m \u001b[38;5;124m'\u001b[39m\u001b[38;5;124mhttps://raw.githubusercontent.com/eKerney/dataStore2/refs/heads/main/wayneGroundObs.geojson\u001b[39m\u001b[38;5;124m'\u001b[39m\n\u001b[1;32m      2\u001b[0m geo_data \u001b[38;5;241m=\u001b[39m GeoData(url_path, InputTypes\u001b[38;5;241m.\u001b[39mDATA_URL, row_filter\u001b[38;5;241m=\u001b[39m\u001b[38;5;241m3\u001b[39m)\n\u001b[0;32m----> 3\u001b[0m \u001b[43mgeo_data\u001b[49m\u001b[38;5;241;43m.\u001b[39;49m\u001b[43mgdf\u001b[49m\n",
      "File \u001b[0;32m/home/pi/dev/notebooks/kzoo_streetlight/geodata-py-utils/geodata_py_utils/__init__.py:43\u001b[0m, in \u001b[0;36mGeoData.gdf\u001b[0;34m(self)\u001b[0m\n\u001b[1;32m     41\u001b[0m \u001b[38;5;129m@property\u001b[39m\n\u001b[1;32m     42\u001b[0m \u001b[38;5;28;01mdef\u001b[39;00m \u001b[38;5;21mgdf\u001b[39m(\u001b[38;5;28mself\u001b[39m) \u001b[38;5;241m-\u001b[39m\u001b[38;5;241m>\u001b[39m gpd\u001b[38;5;241m.\u001b[39mGeoDataFrame:\n\u001b[0;32m---> 43\u001b[0m     \u001b[38;5;28;01mreturn\u001b[39;00m \u001b[38;5;28;43mself\u001b[39;49m\u001b[38;5;241;43m.\u001b[39;49m\u001b[43m_gdf\u001b[49m\n",
      "\u001b[0;31mAttributeError\u001b[0m: 'GeoData' object has no attribute '_gdf'"
     ]
    }
   ],
   "source": [
    "url_path = 'https://raw.githubusercontent.com/eKerney/dataStore2/refs/heads/main/wayneGroundObs.geojson'\n",
    "geo_data = GeoData(url_path, InputTypes.DATA_URL, row_filter=3)\n",
    "geo_data.gdf"
   ]
  },
  {
   "cell_type": "code",
   "execution_count": 2,
   "metadata": {},
   "outputs": [
    {
     "data": {
      "text/html": [
       "<div>\n",
       "<style scoped>\n",
       "    .dataframe tbody tr th:only-of-type {\n",
       "        vertical-align: middle;\n",
       "    }\n",
       "\n",
       "    .dataframe tbody tr th {\n",
       "        vertical-align: top;\n",
       "    }\n",
       "\n",
       "    .dataframe thead th {\n",
       "        text-align: right;\n",
       "    }\n",
       "</style>\n",
       "<table border=\"1\" class=\"dataframe\">\n",
       "  <thead>\n",
       "    <tr style=\"text-align: right;\">\n",
       "      <th></th>\n",
       "      <th>segment_id</th>\n",
       "      <th>name</th>\n",
       "      <th>segment_ty</th>\n",
       "      <th>geometry</th>\n",
       "    </tr>\n",
       "  </thead>\n",
       "  <tbody>\n",
       "    <tr>\n",
       "      <th>0</th>\n",
       "      <td>1111503841</td>\n",
       "      <td>West Main Street / 111568112 / 7</td>\n",
       "      <td>primary</td>\n",
       "      <td>LINESTRING (-85.61777 42.29486, -85.61716 42.2...</td>\n",
       "    </tr>\n",
       "    <tr>\n",
       "      <th>1</th>\n",
       "      <td>1111754274</td>\n",
       "      <td>West Main Street / 727695179 / 1</td>\n",
       "      <td>primary</td>\n",
       "      <td>LINESTRING (-85.62555 42.2955, -85.62523 42.29...</td>\n",
       "    </tr>\n",
       "    <tr>\n",
       "      <th>2</th>\n",
       "      <td>1111871475</td>\n",
       "      <td>West Main Street / 264373332 / 7</td>\n",
       "      <td>primary</td>\n",
       "      <td>LINESTRING (-85.63055 42.29619, -85.62977 42.2...</td>\n",
       "    </tr>\n",
       "    <tr>\n",
       "      <th>3</th>\n",
       "      <td>1112032394</td>\n",
       "      <td>West Main Street / 111568112 / 8</td>\n",
       "      <td>primary</td>\n",
       "      <td>LINESTRING (-85.61716 42.29484, -85.61655 42.2...</td>\n",
       "    </tr>\n",
       "    <tr>\n",
       "      <th>4</th>\n",
       "      <td>1112161013</td>\n",
       "      <td>West Main Street / 888230017 / 1</td>\n",
       "      <td>primary</td>\n",
       "      <td>LINESTRING (-85.6616 42.29599, -85.66073 42.29...</td>\n",
       "    </tr>\n",
       "  </tbody>\n",
       "</table>\n",
       "</div>"
      ],
      "text/plain": [
       "   segment_id                              name segment_ty  \\\n",
       "0  1111503841  West Main Street / 111568112 / 7    primary   \n",
       "1  1111754274  West Main Street / 727695179 / 1    primary   \n",
       "2  1111871475  West Main Street / 264373332 / 7    primary   \n",
       "3  1112032394  West Main Street / 111568112 / 8    primary   \n",
       "4  1112161013  West Main Street / 888230017 / 1    primary   \n",
       "\n",
       "                                            geometry  \n",
       "0  LINESTRING (-85.61777 42.29486, -85.61716 42.2...  \n",
       "1  LINESTRING (-85.62555 42.2955, -85.62523 42.29...  \n",
       "2  LINESTRING (-85.63055 42.29619, -85.62977 42.2...  \n",
       "3  LINESTRING (-85.61716 42.29484, -85.61655 42.2...  \n",
       "4  LINESTRING (-85.6616 42.29599, -85.66073 42.29...  "
      ]
     },
     "execution_count": 2,
     "metadata": {},
     "output_type": "execute_result"
    }
   ],
   "source": [
    "file_path = '/home/pi/dev/notebooks/30DayMap2024/data/kzoo_street_12225/1861928_West_Main_Street/Shapefile/1861928_West_Main_Street_osm_segment.geojson'\n",
    "geo_data = GeoData(file_path, InputTypes.DATA_PATH)\n",
    "geo_data.gdf.head()"
   ]
  },
  {
   "cell_type": "code",
   "execution_count": 8,
   "metadata": {},
   "outputs": [
    {
     "name": "stdout",
     "output_type": "stream",
     "text": [
      "GeoJSON output: ../testing.geojson\n"
     ]
    }
   ],
   "source": [
    "geo_data.export_geojson('../testing')"
   ]
  },
  {
   "cell_type": "code",
   "execution_count": 12,
   "metadata": {},
   "outputs": [
    {
     "data": {
      "text/plain": [
       "{'id': '0',\n",
       " 'type': 'Feature',\n",
       " 'properties': {'segment_id': 1111503841,\n",
       "  'name': 'West Main Street / 111568112 / 7',\n",
       "  'segment_ty': 'primary'},\n",
       " 'geometry': {'type': 'LineString',\n",
       "  'coordinates': [[-85.61777353286743, 42.29485583305359],\n",
       "   [-85.61715984344482, 42.29484176635742]]}}"
      ]
     },
     "execution_count": 12,
     "metadata": {},
     "output_type": "execute_result"
    }
   ],
   "source": [
    "geo_data.geojson['features'][0]"
   ]
  }
 ],
 "metadata": {
  "kernelspec": {
   "display_name": ".venv",
   "language": "python",
   "name": "python3"
  },
  "language_info": {
   "codemirror_mode": {
    "name": "ipython",
    "version": 3
   },
   "file_extension": ".py",
   "mimetype": "text/x-python",
   "name": "python",
   "nbconvert_exporter": "python",
   "pygments_lexer": "ipython3",
   "version": "3.11.10"
  }
 },
 "nbformat": 4,
 "nbformat_minor": 2
}
