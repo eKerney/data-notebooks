{
 "cells": [
  {
   "cell_type": "markdown",
   "metadata": {},
   "source": [
    "# West Main Corridor Analysis"
   ]
  },
  {
   "cell_type": "code",
   "execution_count": 1,
   "metadata": {},
   "outputs": [],
   "source": [
    "import os\n",
    "os.chdir(os.path.expanduser('geodata-py-utils'))\n",
    "from geodata_py_utils import GeoData, InputTypes\n",
    "import pandas as pd\n",
    "import json"
   ]
  },
  {
   "cell_type": "markdown",
   "metadata": {},
   "source": [
    "#### Change dir to kzoo data"
   ]
  },
  {
   "cell_type": "code",
   "execution_count": 3,
   "metadata": {},
   "outputs": [
    {
     "data": {
      "text/plain": [
       "'/home/pi/dev/notebooks/kzoo_streetlight/data/kzoo_street_12225/1861928_West_Main_Street'"
      ]
     },
     "execution_count": 3,
     "metadata": {},
     "output_type": "execute_result"
    }
   ],
   "source": [
    "os.chdir('/home/pi/dev/notebooks/kzoo_streetlight/data/kzoo_street_12225')\n",
    "dirs = os.listdir()\n",
    "os.chdir(dirs[0])\n",
    "os.getcwd()"
   ]
  },
  {
   "cell_type": "markdown",
   "metadata": {},
   "source": [
    "#### Create pandas dataframe from west main traffic data"
   ]
  },
  {
   "cell_type": "code",
   "execution_count": 4,
   "metadata": {},
   "outputs": [
    {
     "data": {
      "text/html": [
       "<div>\n",
       "<style scoped>\n",
       "    .dataframe tbody tr th:only-of-type {\n",
       "        vertical-align: middle;\n",
       "    }\n",
       "\n",
       "    .dataframe tbody tr th {\n",
       "        vertical-align: top;\n",
       "    }\n",
       "\n",
       "    .dataframe thead th {\n",
       "        text-align: right;\n",
       "    }\n",
       "</style>\n",
       "<table border=\"1\" class=\"dataframe\">\n",
       "  <thead>\n",
       "    <tr style=\"text-align: right;\">\n",
       "      <th></th>\n",
       "      <th>Data Periods</th>\n",
       "      <th>Mode of Travel</th>\n",
       "      <th>Zone ID</th>\n",
       "      <th>Zone Name</th>\n",
       "      <th>Road Classification</th>\n",
       "      <th>Line Zone Length (Miles)</th>\n",
       "      <th>Zone Is Pass Through</th>\n",
       "      <th>Zone Direction (degrees)</th>\n",
       "      <th>Zone Cardinal Direction</th>\n",
       "      <th>Zone is Bi-Direction</th>\n",
       "      <th>Day Type</th>\n",
       "      <th>Day Part</th>\n",
       "      <th>Average Daily Segment Traffic (StL Volume)</th>\n",
       "      <th>Avg Segment Speed (mph)</th>\n",
       "      <th>Avg Segment Travel Time (sec)</th>\n",
       "      <th>Free Flow Speed (mph)</th>\n",
       "      <th>Vehicle Miles of Travel (StL Volume)</th>\n",
       "      <th>Travel Time Index</th>\n",
       "      <th>Congested Segment</th>\n",
       "      <th>85th Speed Percentile</th>\n",
       "    </tr>\n",
       "  </thead>\n",
       "  <tbody>\n",
       "    <tr>\n",
       "      <th>0</th>\n",
       "      <td>Jan 01, 2022 - Dec 31, 2023</td>\n",
       "      <td>All Vehicles - StL All Vehicles Volume</td>\n",
       "      <td>1111503841</td>\n",
       "      <td>West Main Street / 111568112 / 7</td>\n",
       "      <td>Primary</td>\n",
       "      <td>0.031</td>\n",
       "      <td>yes</td>\n",
       "      <td>92</td>\n",
       "      <td>EAST</td>\n",
       "      <td>yes</td>\n",
       "      <td>0: All Days (M-Su)</td>\n",
       "      <td>00: All Day (12am-12am)</td>\n",
       "      <td>11509</td>\n",
       "      <td>40</td>\n",
       "      <td>3</td>\n",
       "      <td>44.303</td>\n",
       "      <td>360.04</td>\n",
       "      <td>1.12</td>\n",
       "      <td>False</td>\n",
       "      <td>45</td>\n",
       "    </tr>\n",
       "    <tr>\n",
       "      <th>1</th>\n",
       "      <td>Jan 01, 2022 - Dec 31, 2023</td>\n",
       "      <td>All Vehicles - StL All Vehicles Volume</td>\n",
       "      <td>1111503841</td>\n",
       "      <td>West Main Street / 111568112 / 7</td>\n",
       "      <td>Primary</td>\n",
       "      <td>0.031</td>\n",
       "      <td>yes</td>\n",
       "      <td>92</td>\n",
       "      <td>EAST</td>\n",
       "      <td>yes</td>\n",
       "      <td>0: All Days (M-Su)</td>\n",
       "      <td>01: 12am (12am-1am)</td>\n",
       "      <td>125</td>\n",
       "      <td>40</td>\n",
       "      <td>3</td>\n",
       "      <td>44.303</td>\n",
       "      <td>3.92</td>\n",
       "      <td>1.09</td>\n",
       "      <td>False</td>\n",
       "      <td>46</td>\n",
       "    </tr>\n",
       "    <tr>\n",
       "      <th>2</th>\n",
       "      <td>Jan 01, 2022 - Dec 31, 2023</td>\n",
       "      <td>All Vehicles - StL All Vehicles Volume</td>\n",
       "      <td>1111503841</td>\n",
       "      <td>West Main Street / 111568112 / 7</td>\n",
       "      <td>Primary</td>\n",
       "      <td>0.031</td>\n",
       "      <td>yes</td>\n",
       "      <td>92</td>\n",
       "      <td>EAST</td>\n",
       "      <td>yes</td>\n",
       "      <td>0: All Days (M-Su)</td>\n",
       "      <td>02: Early AM (12am-6am)</td>\n",
       "      <td>469</td>\n",
       "      <td>41</td>\n",
       "      <td>3</td>\n",
       "      <td>44.303</td>\n",
       "      <td>14.68</td>\n",
       "      <td>1.07</td>\n",
       "      <td>False</td>\n",
       "      <td>47</td>\n",
       "    </tr>\n",
       "  </tbody>\n",
       "</table>\n",
       "</div>"
      ],
      "text/plain": [
       "                  Data Periods                          Mode of Travel  \\\n",
       "0  Jan 01, 2022 - Dec 31, 2023  All Vehicles - StL All Vehicles Volume   \n",
       "1  Jan 01, 2022 - Dec 31, 2023  All Vehicles - StL All Vehicles Volume   \n",
       "2  Jan 01, 2022 - Dec 31, 2023  All Vehicles - StL All Vehicles Volume   \n",
       "\n",
       "      Zone ID                         Zone Name Road Classification  \\\n",
       "0  1111503841  West Main Street / 111568112 / 7             Primary   \n",
       "1  1111503841  West Main Street / 111568112 / 7             Primary   \n",
       "2  1111503841  West Main Street / 111568112 / 7             Primary   \n",
       "\n",
       "   Line Zone Length (Miles) Zone Is Pass Through  Zone Direction (degrees)  \\\n",
       "0                     0.031                  yes                        92   \n",
       "1                     0.031                  yes                        92   \n",
       "2                     0.031                  yes                        92   \n",
       "\n",
       "  Zone Cardinal Direction Zone is Bi-Direction            Day Type  \\\n",
       "0                    EAST                  yes  0: All Days (M-Su)   \n",
       "1                    EAST                  yes  0: All Days (M-Su)   \n",
       "2                    EAST                  yes  0: All Days (M-Su)   \n",
       "\n",
       "                  Day Part  Average Daily Segment Traffic (StL Volume)  \\\n",
       "0  00: All Day (12am-12am)                                       11509   \n",
       "1      01: 12am (12am-1am)                                         125   \n",
       "2  02: Early AM (12am-6am)                                         469   \n",
       "\n",
       "   Avg Segment Speed (mph)  Avg Segment Travel Time (sec)  \\\n",
       "0                       40                              3   \n",
       "1                       40                              3   \n",
       "2                       41                              3   \n",
       "\n",
       "   Free Flow Speed (mph)  Vehicle Miles of Travel (StL Volume)  \\\n",
       "0                 44.303                                360.04   \n",
       "1                 44.303                                  3.92   \n",
       "2                 44.303                                 14.68   \n",
       "\n",
       "   Travel Time Index  Congested Segment  85th Speed Percentile  \n",
       "0               1.12              False                     45  \n",
       "1               1.09              False                     46  \n",
       "2               1.07              False                     47  "
      ]
     },
     "execution_count": 4,
     "metadata": {},
     "output_type": "execute_result"
    }
   ],
   "source": [
    "files = os.listdir()\n",
    "df = pd.read_csv(files[0])\n",
    "df.head(3)"
   ]
  },
  {
   "cell_type": "markdown",
   "metadata": {},
   "source": [
    "#### Filter to retain only 1 summary traffic count per segement"
   ]
  },
  {
   "cell_type": "code",
   "execution_count": 5,
   "metadata": {},
   "outputs": [
    {
     "data": {
      "text/plain": [
       "Zone ID                                       53\n",
       "Day Type                                      53\n",
       "Average Daily Segment Traffic (StL Volume)    53\n",
       "Avg Segment Speed (mph)                       53\n",
       "Free Flow Speed (mph)                         53\n",
       "85th Speed Percentile                         53\n",
       "dtype: int64"
      ]
     },
     "execution_count": 5,
     "metadata": {},
     "output_type": "execute_result"
    }
   ],
   "source": [
    "df_all = df[(df['Day Part'] == '00: All Day (12am-12am)') & (df['Day Type'] == '0: All Days (M-Su)')]\n",
    "c = df_all.columns\n",
    "df_at = df_all[[c[2], c[10], c[12], c[13], c[15], c[19]]]\n",
    "df_at.count()"
   ]
  },
  {
   "cell_type": "markdown",
   "metadata": {},
   "source": [
    "Set index for traffic dataframe as Zone ID for join"
   ]
  },
  {
   "cell_type": "code",
   "execution_count": 6,
   "metadata": {},
   "outputs": [
    {
     "data": {
      "text/plain": [
       "{'Zone ID': 1111503841,\n",
       " 'Day Type': '0: All Days (M-Su)',\n",
       " 'Average Daily Segment Traffic (StL Volume)': 11509,\n",
       " 'Avg Segment Speed (mph)': 40,\n",
       " 'Free Flow Speed (mph)': 44.303,\n",
       " '85th Speed Percentile': 45}"
      ]
     },
     "execution_count": 6,
     "metadata": {},
     "output_type": "execute_result"
    }
   ],
   "source": [
    "df_at.set_index(df_at['Zone ID'], inplace=True)\n",
    "data = df_at.to_dict('index')\n",
    "data[1111503841]"
   ]
  },
  {
   "cell_type": "markdown",
   "metadata": {},
   "source": [
    "### Testing GeoData Lib Section"
   ]
  },
  {
   "cell_type": "markdown",
   "metadata": {},
   "source": [
    "Load west_main geojson using GeoData library"
   ]
  },
  {
   "cell_type": "code",
   "execution_count": 7,
   "metadata": {},
   "outputs": [
    {
     "data": {
      "text/html": [
       "<div>\n",
       "<style scoped>\n",
       "    .dataframe tbody tr th:only-of-type {\n",
       "        vertical-align: middle;\n",
       "    }\n",
       "\n",
       "    .dataframe tbody tr th {\n",
       "        vertical-align: top;\n",
       "    }\n",
       "\n",
       "    .dataframe thead th {\n",
       "        text-align: right;\n",
       "    }\n",
       "</style>\n",
       "<table border=\"1\" class=\"dataframe\">\n",
       "  <thead>\n",
       "    <tr style=\"text-align: right;\">\n",
       "      <th></th>\n",
       "      <th>segment_id</th>\n",
       "      <th>name</th>\n",
       "      <th>segment_ty</th>\n",
       "      <th>geometry</th>\n",
       "    </tr>\n",
       "  </thead>\n",
       "  <tbody>\n",
       "    <tr>\n",
       "      <th>0</th>\n",
       "      <td>1111503841</td>\n",
       "      <td>West Main Street / 111568112 / 7</td>\n",
       "      <td>primary</td>\n",
       "      <td>LINESTRING (-85.61777 42.29486, -85.61716 42.2...</td>\n",
       "    </tr>\n",
       "    <tr>\n",
       "      <th>1</th>\n",
       "      <td>1111754274</td>\n",
       "      <td>West Main Street / 727695179 / 1</td>\n",
       "      <td>primary</td>\n",
       "      <td>LINESTRING (-85.62555 42.2955, -85.62523 42.29...</td>\n",
       "    </tr>\n",
       "    <tr>\n",
       "      <th>2</th>\n",
       "      <td>1111871475</td>\n",
       "      <td>West Main Street / 264373332 / 7</td>\n",
       "      <td>primary</td>\n",
       "      <td>LINESTRING (-85.63055 42.29619, -85.62977 42.2...</td>\n",
       "    </tr>\n",
       "  </tbody>\n",
       "</table>\n",
       "</div>"
      ],
      "text/plain": [
       "   segment_id                              name segment_ty  \\\n",
       "0  1111503841  West Main Street / 111568112 / 7    primary   \n",
       "1  1111754274  West Main Street / 727695179 / 1    primary   \n",
       "2  1111871475  West Main Street / 264373332 / 7    primary   \n",
       "\n",
       "                                            geometry  \n",
       "0  LINESTRING (-85.61777 42.29486, -85.61716 42.2...  \n",
       "1  LINESTRING (-85.62555 42.2955, -85.62523 42.29...  \n",
       "2  LINESTRING (-85.63055 42.29619, -85.62977 42.2...  "
      ]
     },
     "execution_count": 7,
     "metadata": {},
     "output_type": "execute_result"
    }
   ],
   "source": [
    "file_path = '/home/pi/dev/notebooks/kzoo_streetlight/data/kzoo_street_12225/1861928_West_Main_Street/west_main.geojson'\n",
    "geo_data = GeoData(file_path, InputTypes.DATA_PATH)\n",
    "geo_data.gdf.head(3)"
   ]
  },
  {
   "cell_type": "markdown",
   "metadata": {},
   "source": [
    "Join traffic data to segments using Zone ID/ segment_id"
   ]
  },
  {
   "cell_type": "code",
   "execution_count": 8,
   "metadata": {},
   "outputs": [
    {
     "data": {
      "text/plain": [
       "{'id': '0',\n",
       " 'type': 'Feature',\n",
       " 'properties': {'segment_id': 1111503841,\n",
       "  'name': 'West Main Street / 111568112 / 7',\n",
       "  'segment_ty': 'primary',\n",
       "  'Zone ID': 1111503841,\n",
       "  'Day Type': '0: All Days (M-Su)',\n",
       "  'Average Daily Segment Traffic (StL Volume)': 11509,\n",
       "  'Avg Segment Speed (mph)': 40,\n",
       "  'Free Flow Speed (mph)': 44.303,\n",
       "  '85th Speed Percentile': 45},\n",
       " 'geometry': {'type': 'LineString',\n",
       "  'coordinates': [[-85.61777353286743, 42.29485583305359],\n",
       "   [-85.61715984344482, 42.29484176635742]]}}"
      ]
     },
     "execution_count": 8,
     "metadata": {},
     "output_type": "execute_result"
    }
   ],
   "source": [
    "new_gj = {'type': 'FeatureCollection', 'features': []}\n",
    "for f in geo_data.geojson['features']:\n",
    "    f['properties'].update(data[f['properties']['segment_id']])\n",
    "    new_gj['features'].append(f)\n",
    "new_gj['features'][0]"
   ]
  },
  {
   "cell_type": "code",
   "execution_count": 9,
   "metadata": {},
   "outputs": [
    {
     "data": {
      "text/plain": [
       "{'id': '0',\n",
       " 'type': 'Feature',\n",
       " 'properties': {'segment_id': 1111503841,\n",
       "  'name': 'West Main Street / 111568112 / 7',\n",
       "  'segment_ty': 'primary',\n",
       "  'Zone ID': 1111503841,\n",
       "  'Day Type': '0: All Days (M-Su)',\n",
       "  'Average Daily Segment Traffic (StL Volume)': 11509,\n",
       "  'Avg Segment Speed (mph)': 40,\n",
       "  'Free Flow Speed (mph)': 44.303,\n",
       "  '85th Speed Percentile': 45},\n",
       " 'geometry': {'type': 'LineString',\n",
       "  'coordinates': [[-85.61777353286743, 42.29485583305359],\n",
       "   [-85.61715984344482, 42.29484176635742]]}}"
      ]
     },
     "execution_count": 9,
     "metadata": {},
     "output_type": "execute_result"
    }
   ],
   "source": [
    "geo_data_join = GeoData(new_gj, InputTypes.DATA_FEATURES)\n",
    "geo_data_join.geojson['features'][0]"
   ]
  },
  {
   "cell_type": "code",
   "execution_count": 10,
   "metadata": {},
   "outputs": [
    {
     "name": "stdout",
     "output_type": "stream",
     "text": [
      "GeoJSON output: west_main_joined.geojson\n"
     ]
    }
   ],
   "source": [
    "os.chdir('/home/pi/dev/notebooks/kzoo_streetlight/data')\n",
    "geo_data_join.export_geojson('west_main_joined')"
   ]
  },
  {
   "cell_type": "markdown",
   "metadata": {},
   "source": [
    "## Summary Stats & Plots"
   ]
  },
  {
   "cell_type": "code",
   "execution_count": null,
   "metadata": {},
   "outputs": [],
   "source": [
    "pd.options.display.max_colwidth = 20\n",
    "pd.options.display.max_info_columns = 100\n",
    "pd.set_option(\"max_colwidth\", 10)\n",
    "pd.set_option(\"max_info_columns\", 20)"
   ]
  },
  {
   "cell_type": "code",
   "execution_count": 50,
   "metadata": {},
   "outputs": [
    {
     "name": "stdout",
     "output_type": "stream",
     "text": [
      "[(0, 'Data Periods'), (1, 'Mode of Travel'), (2, 'Zone ID'), (3, 'Zone Name'), (4, 'Road Classification'), (5, 'Line Zone Length (Miles)'), (6, 'Zone Is Pass Through'), (7, 'Zone Direction (degrees)'), (8, 'Zone Cardinal Direction'), (9, 'Zone is Bi-Direction'), (10, 'Day Type'), (11, 'Day Part'), (12, 'Avg Daily Seg Traffic '), (13, 'Avg Seg Spd (mph)'), (14, 'Avg Segment Travel Time (sec)'), (15, 'Free Flow Spd (mph)'), (16, 'Vehicle Miles of Travel (StL Volume)'), (17, 'Travel Time Index'), (18, 'Congested Segment'), (19, '85th Spd PCTL')]\n"
     ]
    }
   ],
   "source": [
    "dfc = df.copy(deep=True)\n",
    "dfc.rename(columns={'Average Daily Segment Traffic (StL Volume)': 'Avg Daily Seg Traffic ', \\\n",
    "                    'Avg Segment Speed (mph)': 'Avg Seg Spd (mph)', \n",
    "                    '85th Speed Percentile': '85th Spd PCTL', \n",
    "                    'Free Flow Speed (mph)': 'Free Flow Spd (mph)' }, inplace=True)\n",
    "dc = dfc.columns\n",
    "print([(i, item) for i, item in enumerate(dc)]) "
   ]
  },
  {
   "cell_type": "code",
   "execution_count": 73,
   "metadata": {},
   "outputs": [
    {
     "data": {
      "text/html": [
       "<style type=\"text/css\">\n",
       "</style>\n",
       "<table id=\"T_dbd45\">\n",
       "  <caption><h2>West Main All Segments Summary</h2></caption>\n",
       "  <thead>\n",
       "    <tr>\n",
       "      <th class=\"blank level0\" >&nbsp;</th>\n",
       "      <th id=\"T_dbd45_level0_col0\" class=\"col_heading level0 col0\" >COUNT</th>\n",
       "      <th id=\"T_dbd45_level0_col1\" class=\"col_heading level0 col1\" >MEAN</th>\n",
       "      <th id=\"T_dbd45_level0_col2\" class=\"col_heading level0 col2\" >STD</th>\n",
       "      <th id=\"T_dbd45_level0_col3\" class=\"col_heading level0 col3\" >MIN</th>\n",
       "      <th id=\"T_dbd45_level0_col4\" class=\"col_heading level0 col4\" >50%</th>\n",
       "      <th id=\"T_dbd45_level0_col5\" class=\"col_heading level0 col5\" >MAX</th>\n",
       "    </tr>\n",
       "  </thead>\n",
       "  <tbody>\n",
       "    <tr>\n",
       "      <th id=\"T_dbd45_level0_row0\" class=\"row_heading level0 row0\" ><b>Line Zone Length (Miles)<br></th>\n",
       "      <td id=\"T_dbd45_row0_col0\" class=\"data row0 col0\" >4,770.00</td>\n",
       "      <td id=\"T_dbd45_row0_col1\" class=\"data row0 col1\" >0.07</td>\n",
       "      <td id=\"T_dbd45_row0_col2\" class=\"data row0 col2\" >0.05</td>\n",
       "      <td id=\"T_dbd45_row0_col3\" class=\"data row0 col3\" >0.01</td>\n",
       "      <td id=\"T_dbd45_row0_col4\" class=\"data row0 col4\" >0.05</td>\n",
       "      <td id=\"T_dbd45_row0_col5\" class=\"data row0 col5\" >0.29</td>\n",
       "    </tr>\n",
       "    <tr>\n",
       "      <th id=\"T_dbd45_level0_row1\" class=\"row_heading level0 row1\" >row 2</th>\n",
       "      <td id=\"T_dbd45_row1_col0\" class=\"data row1 col0\" >4,770.00</td>\n",
       "      <td id=\"T_dbd45_row1_col1\" class=\"data row1 col1\" >1,212.85</td>\n",
       "      <td id=\"T_dbd45_row1_col2\" class=\"data row1 col2\" >2,299.47</td>\n",
       "      <td id=\"T_dbd45_row1_col3\" class=\"data row1 col3\" >21.00</td>\n",
       "      <td id=\"T_dbd45_row1_col4\" class=\"data row1 col4\" >647.00</td>\n",
       "      <td id=\"T_dbd45_row1_col5\" class=\"data row1 col5\" >17,452.00</td>\n",
       "    </tr>\n",
       "    <tr>\n",
       "      <th id=\"T_dbd45_level0_row2\" class=\"row_heading level0 row2\" >row 2</th>\n",
       "      <td id=\"T_dbd45_row2_col0\" class=\"data row2 col0\" >4,770.00</td>\n",
       "      <td id=\"T_dbd45_row2_col1\" class=\"data row2 col1\" >37.67</td>\n",
       "      <td id=\"T_dbd45_row2_col2\" class=\"data row2 col2\" >4.44</td>\n",
       "      <td id=\"T_dbd45_row2_col3\" class=\"data row2 col3\" >19.00</td>\n",
       "      <td id=\"T_dbd45_row2_col4\" class=\"data row2 col4\" >39.00</td>\n",
       "      <td id=\"T_dbd45_row2_col5\" class=\"data row2 col5\" >46.00</td>\n",
       "    </tr>\n",
       "    <tr>\n",
       "      <th id=\"T_dbd45_level0_row3\" class=\"row_heading level0 row3\" >row 2</th>\n",
       "      <td id=\"T_dbd45_row3_col0\" class=\"data row3 col0\" >4,770.00</td>\n",
       "      <td id=\"T_dbd45_row3_col1\" class=\"data row3 col1\" >43.24</td>\n",
       "      <td id=\"T_dbd45_row3_col2\" class=\"data row3 col2\" >3.76</td>\n",
       "      <td id=\"T_dbd45_row3_col3\" class=\"data row3 col3\" >21.80</td>\n",
       "      <td id=\"T_dbd45_row3_col4\" class=\"data row3 col4\" >43.80</td>\n",
       "      <td id=\"T_dbd45_row3_col5\" class=\"data row3 col5\" >47.42</td>\n",
       "    </tr>\n",
       "    <tr>\n",
       "      <th id=\"T_dbd45_level0_row4\" class=\"row_heading level0 row4\" >row 2</th>\n",
       "      <td id=\"T_dbd45_row4_col0\" class=\"data row4 col0\" >4,770.00</td>\n",
       "      <td id=\"T_dbd45_row4_col1\" class=\"data row4 col1\" >45.18</td>\n",
       "      <td id=\"T_dbd45_row4_col2\" class=\"data row4 col2\" >3.20</td>\n",
       "      <td id=\"T_dbd45_row4_col3\" class=\"data row4 col3\" >30.00</td>\n",
       "      <td id=\"T_dbd45_row4_col4\" class=\"data row4 col4\" >45.00</td>\n",
       "      <td id=\"T_dbd45_row4_col5\" class=\"data row4 col5\" >53.00</td>\n",
       "    </tr>\n",
       "  </tbody>\n",
       "</table>\n"
      ],
      "text/plain": [
       "<pandas.io.formats.style.Styler at 0x7f73b16c0610>"
      ]
     },
     "execution_count": 73,
     "metadata": {},
     "output_type": "execute_result"
    }
   ],
   "source": [
    "dfc[[dc[5], dc[12], dc[13],dc[15],dc[19]]].describe(percentiles=[]).T.style \\\n",
    "  .format(precision=2, thousands=\",\", decimal=\".\") \\\n",
    "  .format_index(str.upper, axis=1) \\\n",
    "  .set_caption('<h2>West Main All Segments Summary</h2>') \\\n",
    "  .relabel_index([f'<b>{dc[5]}<br>', \"row 2\",  \"row 2\",  \"row 2\",  \"row 2\"], axis=0)"
   ]
  },
  {
   "cell_type": "code",
   "execution_count": 47,
   "metadata": {},
   "outputs": [],
   "source": [
    "# df_all \n",
    "# df_at\n"
   ]
  },
  {
   "cell_type": "code",
   "execution_count": null,
   "metadata": {},
   "outputs": [],
   "source": []
  }
 ],
 "metadata": {
  "kernelspec": {
   "display_name": ".venv",
   "language": "python",
   "name": "python3"
  },
  "language_info": {
   "codemirror_mode": {
    "name": "ipython",
    "version": 3
   },
   "file_extension": ".py",
   "mimetype": "text/x-python",
   "name": "python",
   "nbconvert_exporter": "python",
   "pygments_lexer": "ipython3",
   "version": "3.11.10"
  }
 },
 "nbformat": 4,
 "nbformat_minor": 2
}
