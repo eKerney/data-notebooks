{
 "cells": [
  {
   "cell_type": "code",
   "execution_count": 16,
   "metadata": {},
   "outputs": [],
   "source": [
    "import pandas as pd\n",
    "import json\n",
    "import os\n",
    "import numpy as np"
   ]
  },
  {
   "cell_type": "code",
   "execution_count": 2,
   "metadata": {},
   "outputs": [
    {
     "data": {
      "text/plain": [
       "'/home/pi/dev/notebooks/30DayMap2024/data/kzoo_street_12225/1861928_West_Main_Street'"
      ]
     },
     "execution_count": 2,
     "metadata": {},
     "output_type": "execute_result"
    }
   ],
   "source": [
    "os.chdir('/home/pi/dev/notebooks/30DayMap2024/data/kzoo_street_12225')\n",
    "dirs = os.listdir()\n",
    "os.chdir(dirs[0])\n",
    "os.getcwd()"
   ]
  },
  {
   "cell_type": "code",
   "execution_count": 13,
   "metadata": {},
   "outputs": [
    {
     "data": {
      "text/html": [
       "<div>\n",
       "<style scoped>\n",
       "    .dataframe tbody tr th:only-of-type {\n",
       "        vertical-align: middle;\n",
       "    }\n",
       "\n",
       "    .dataframe tbody tr th {\n",
       "        vertical-align: top;\n",
       "    }\n",
       "\n",
       "    .dataframe thead th {\n",
       "        text-align: right;\n",
       "    }\n",
       "</style>\n",
       "<table border=\"1\" class=\"dataframe\">\n",
       "  <thead>\n",
       "    <tr style=\"text-align: right;\">\n",
       "      <th></th>\n",
       "      <th>Data Periods</th>\n",
       "      <th>Mode of Travel</th>\n",
       "      <th>Zone ID</th>\n",
       "      <th>Zone Name</th>\n",
       "      <th>Road Classification</th>\n",
       "      <th>Line Zone Length (Miles)</th>\n",
       "      <th>Zone Is Pass Through</th>\n",
       "      <th>Zone Direction (degrees)</th>\n",
       "      <th>Zone Cardinal Direction</th>\n",
       "      <th>Zone is Bi-Direction</th>\n",
       "      <th>Day Type</th>\n",
       "      <th>Day Part</th>\n",
       "      <th>Average Daily Segment Traffic (StL Volume)</th>\n",
       "      <th>Avg Segment Speed (mph)</th>\n",
       "      <th>Avg Segment Travel Time (sec)</th>\n",
       "      <th>Free Flow Speed (mph)</th>\n",
       "      <th>Vehicle Miles of Travel (StL Volume)</th>\n",
       "      <th>Travel Time Index</th>\n",
       "      <th>Congested Segment</th>\n",
       "      <th>85th Speed Percentile</th>\n",
       "    </tr>\n",
       "  </thead>\n",
       "  <tbody>\n",
       "    <tr>\n",
       "      <th>0</th>\n",
       "      <td>Jan 01, 2022 - Dec 31, 2023</td>\n",
       "      <td>All Vehicles - StL All Vehicles Volume</td>\n",
       "      <td>1111503841</td>\n",
       "      <td>West Main Street / 111568112 / 7</td>\n",
       "      <td>Primary</td>\n",
       "      <td>0.031</td>\n",
       "      <td>yes</td>\n",
       "      <td>92</td>\n",
       "      <td>EAST</td>\n",
       "      <td>yes</td>\n",
       "      <td>0: All Days (M-Su)</td>\n",
       "      <td>00: All Day (12am-12am)</td>\n",
       "      <td>11509</td>\n",
       "      <td>40</td>\n",
       "      <td>3</td>\n",
       "      <td>44.303</td>\n",
       "      <td>360.04</td>\n",
       "      <td>1.12</td>\n",
       "      <td>False</td>\n",
       "      <td>45</td>\n",
       "    </tr>\n",
       "    <tr>\n",
       "      <th>1</th>\n",
       "      <td>Jan 01, 2022 - Dec 31, 2023</td>\n",
       "      <td>All Vehicles - StL All Vehicles Volume</td>\n",
       "      <td>1111503841</td>\n",
       "      <td>West Main Street / 111568112 / 7</td>\n",
       "      <td>Primary</td>\n",
       "      <td>0.031</td>\n",
       "      <td>yes</td>\n",
       "      <td>92</td>\n",
       "      <td>EAST</td>\n",
       "      <td>yes</td>\n",
       "      <td>0: All Days (M-Su)</td>\n",
       "      <td>01: 12am (12am-1am)</td>\n",
       "      <td>125</td>\n",
       "      <td>40</td>\n",
       "      <td>3</td>\n",
       "      <td>44.303</td>\n",
       "      <td>3.92</td>\n",
       "      <td>1.09</td>\n",
       "      <td>False</td>\n",
       "      <td>46</td>\n",
       "    </tr>\n",
       "  </tbody>\n",
       "</table>\n",
       "</div>"
      ],
      "text/plain": [
       "                  Data Periods                          Mode of Travel  \\\n",
       "0  Jan 01, 2022 - Dec 31, 2023  All Vehicles - StL All Vehicles Volume   \n",
       "1  Jan 01, 2022 - Dec 31, 2023  All Vehicles - StL All Vehicles Volume   \n",
       "\n",
       "      Zone ID                         Zone Name Road Classification  \\\n",
       "0  1111503841  West Main Street / 111568112 / 7             Primary   \n",
       "1  1111503841  West Main Street / 111568112 / 7             Primary   \n",
       "\n",
       "   Line Zone Length (Miles) Zone Is Pass Through  Zone Direction (degrees)  \\\n",
       "0                     0.031                  yes                        92   \n",
       "1                     0.031                  yes                        92   \n",
       "\n",
       "  Zone Cardinal Direction Zone is Bi-Direction            Day Type  \\\n",
       "0                    EAST                  yes  0: All Days (M-Su)   \n",
       "1                    EAST                  yes  0: All Days (M-Su)   \n",
       "\n",
       "                  Day Part  Average Daily Segment Traffic (StL Volume)  \\\n",
       "0  00: All Day (12am-12am)                                       11509   \n",
       "1      01: 12am (12am-1am)                                         125   \n",
       "\n",
       "   Avg Segment Speed (mph)  Avg Segment Travel Time (sec)  \\\n",
       "0                       40                              3   \n",
       "1                       40                              3   \n",
       "\n",
       "   Free Flow Speed (mph)  Vehicle Miles of Travel (StL Volume)  \\\n",
       "0                 44.303                                360.04   \n",
       "1                 44.303                                  3.92   \n",
       "\n",
       "   Travel Time Index  Congested Segment  85th Speed Percentile  \n",
       "0               1.12              False                     45  \n",
       "1               1.09              False                     46  "
      ]
     },
     "execution_count": 13,
     "metadata": {},
     "output_type": "execute_result"
    }
   ],
   "source": [
    "files = os.listdir()\n",
    "df = pd.read_csv(files[0])\n",
    "df.head(2)"
   ]
  },
  {
   "cell_type": "code",
   "execution_count": null,
   "metadata": {},
   "outputs": [
    {
     "data": {
      "text/html": [
       "<div>\n",
       "<style scoped>\n",
       "    .dataframe tbody tr th:only-of-type {\n",
       "        vertical-align: middle;\n",
       "    }\n",
       "\n",
       "    .dataframe tbody tr th {\n",
       "        vertical-align: top;\n",
       "    }\n",
       "\n",
       "    .dataframe thead th {\n",
       "        text-align: right;\n",
       "    }\n",
       "</style>\n",
       "<table border=\"1\" class=\"dataframe\">\n",
       "  <thead>\n",
       "    <tr style=\"text-align: right;\">\n",
       "      <th></th>\n",
       "      <th>Zone ID</th>\n",
       "      <th>Day Type</th>\n",
       "      <th>Average Daily Segment Traffic (StL Volume)</th>\n",
       "      <th>Avg Segment Speed (mph)</th>\n",
       "      <th>Free Flow Speed (mph)</th>\n",
       "      <th>85th Speed Percentile</th>\n",
       "    </tr>\n",
       "  </thead>\n",
       "  <tbody>\n",
       "    <tr>\n",
       "      <th>0</th>\n",
       "      <td>1111503841</td>\n",
       "      <td>0: All Days (M-Su)</td>\n",
       "      <td>11509</td>\n",
       "      <td>40</td>\n",
       "      <td>44.303</td>\n",
       "      <td>45</td>\n",
       "    </tr>\n",
       "    <tr>\n",
       "      <th>90</th>\n",
       "      <td>1111754274</td>\n",
       "      <td>0: All Days (M-Su)</td>\n",
       "      <td>11450</td>\n",
       "      <td>37</td>\n",
       "      <td>42.516</td>\n",
       "      <td>43</td>\n",
       "    </tr>\n",
       "  </tbody>\n",
       "</table>\n",
       "</div>"
      ],
      "text/plain": [
       "       Zone ID            Day Type  \\\n",
       "0   1111503841  0: All Days (M-Su)   \n",
       "90  1111754274  0: All Days (M-Su)   \n",
       "\n",
       "    Average Daily Segment Traffic (StL Volume)  Avg Segment Speed (mph)  \\\n",
       "0                                        11509                       40   \n",
       "90                                       11450                       37   \n",
       "\n",
       "    Free Flow Speed (mph)  85th Speed Percentile  \n",
       "0                  44.303                     45  \n",
       "90                 42.516                     43  "
      ]
     },
     "execution_count": 56,
     "metadata": {},
     "output_type": "execute_result"
    }
   ],
   "source": [
    "df_all = df[(df['Day Part'] == '00: All Day (12am-12am)') & (df['Day Type'] == '0: All Days (M-Su)')]\n",
    "c = df_all.columns\n",
    "df_at = df_all[[c[2], c[10], c[12], c[13], c[15], c[19]]]\n",
    "df_at.count()"
   ]
  },
  {
   "cell_type": "code",
   "execution_count": 146,
   "metadata": {},
   "outputs": [
    {
     "name": "stdout",
     "output_type": "stream",
     "text": [
      "Loaded JSON: 1861928_West_Main_Street_osm_segment.geojson\n",
      "GeoJSON output: west_main.geojson\n"
     ]
    }
   ],
   "source": [
    "url_path = 'https://raw.githubusercontent.com/eKerney/dataStore2/refs/heads/main/wayneGroundObs.geojson'\n",
    "file_path = '/home/pi/dev/notebooks/30DayMap2024/data/kzoo_street_12225/1861928_West_Main_Street/Shapefile/1861928_West_Main_Street_osm_segment.geojson'\n",
    "geojson = GeoJSONtools(file_path)\n",
    "geojson.export_file(\"west_main\")"
   ]
  },
  {
   "cell_type": "code",
   "execution_count": 144,
   "metadata": {},
   "outputs": [],
   "source": [
    "import pandas as pd\n",
    "import geopandas as gpd\n",
    "import os\n",
    "import json\n",
    "import numpy as np\n",
    "\n",
    "class GeoJSONtools:\n",
    "    def __init__(self, file_path: str=\"\"):\n",
    "        if not file_path:\n",
    "            self.geojson = None\n",
    "        elif file_path.startswith(\"https:\") or file_path.startswith(\"http:\"):\n",
    "            gdf = gpd.read_file(file_path)\n",
    "            self.geojson = json.loads(gdf.to_json())\n",
    "        else:\n",
    "            f = open(file_path)\n",
    "            splt = file_path.split('/')\n",
    "            print(f'Loaded JSON: {splt[-1]}')\n",
    "            self.geojson = json.load(f)\n",
    "\n",
    "    @property          \n",
    "    def geojson(self): \n",
    "        return self._geojson\n",
    "\n",
    "    @geojson.setter \n",
    "    def geojson(self, value):\n",
    "        self._geojson = value  \n",
    "    \n",
    "    def export_file(self, file_name=\"geojson_file.geojson\"):\n",
    "        with open((f'{file_name}.geojson'), \"w\") as outfile:\n",
    "            outfile.write(json.dumps(self.geojson))\n",
    "        print(f'GeoJSON output: {file_name}.geojson')\n"
   ]
  },
  {
   "cell_type": "code",
   "execution_count": 44,
   "metadata": {},
   "outputs": [
    {
     "name": "stdout",
     "output_type": "stream",
     "text": [
      "Loaded JSON: 1861928_West_Main_Street_osm_segment.geojson\n"
     ]
    },
    {
     "data": {
      "text/plain": [
       "53"
      ]
     },
     "execution_count": 44,
     "metadata": {},
     "output_type": "execute_result"
    }
   ],
   "source": [
    "geo_path = '/home/pi/dev/notebooks/30DayMap2024/data/kzoo_street_12225/1861928_West_Main_Street/Shapefile/1861928_West_Main_Street_osm_segment.geojson'\n",
    "west_main_geo = load_json(geo_path)\n",
    "west_main_geo['features'].__len__()"
   ]
  },
  {
   "cell_type": "code",
   "execution_count": 106,
   "metadata": {},
   "outputs": [
    {
     "data": {
      "text/plain": [
       "{'Zone ID': 1111503841,\n",
       " 'Day Type': '0: All Days (M-Su)',\n",
       " 'Average Daily Segment Traffic (StL Volume)': 11509,\n",
       " 'Avg Segment Speed (mph)': 40,\n",
       " 'Free Flow Speed (mph)': 44.303,\n",
       " '85th Speed Percentile': 45}"
      ]
     },
     "execution_count": 106,
     "metadata": {},
     "output_type": "execute_result"
    }
   ],
   "source": [
    "df_at.set_index(df_at['Zone ID'], inplace=True)\n",
    "data = df_at.to_dict('index')\n",
    "data[1111503841]"
   ]
  },
  {
   "cell_type": "code",
   "execution_count": null,
   "metadata": {},
   "outputs": [],
   "source": [
    "west_main_geo"
   ]
  },
  {
   "cell_type": "code",
   "execution_count": null,
   "metadata": {},
   "outputs": [],
   "source": [
    "new_gj = {'type': 'FeatureCollection', 'features': []}\n",
    "for f in west_main_geo['features']:\n",
    "    f['properties'].update(data[f['properties']['segment_id']])\n",
    "    new_gj['features'].append(f)\n",
    "# new_gj"
   ]
  },
  {
   "cell_type": "markdown",
   "metadata": {},
   "source": [
    "### geodata working section"
   ]
  },
  {
   "cell_type": "code",
   "execution_count": 1,
   "metadata": {},
   "outputs": [],
   "source": [
    "import os\n",
    "import importlib\n",
    "os.chdir(os.path.expanduser('geodata-py-utils'))\n",
    "# import geodata_py_utils\n",
    "from geodata_py_utils import *\n",
    "# importlib.reload(geodata_py_utils)"
   ]
  },
  {
   "cell_type": "code",
   "execution_count": null,
   "metadata": {},
   "outputs": [],
   "source": [
    "GeoData."
   ]
  },
  {
   "cell_type": "markdown",
   "metadata": {},
   "source": [
    "### Testing input types"
   ]
  },
  {
   "cell_type": "code",
   "execution_count": 2,
   "metadata": {},
   "outputs": [
    {
     "data": {
      "text/html": [
       "<div>\n",
       "<style scoped>\n",
       "    .dataframe tbody tr th:only-of-type {\n",
       "        vertical-align: middle;\n",
       "    }\n",
       "\n",
       "    .dataframe tbody tr th {\n",
       "        vertical-align: top;\n",
       "    }\n",
       "\n",
       "    .dataframe thead th {\n",
       "        text-align: right;\n",
       "    }\n",
       "</style>\n",
       "<table border=\"1\" class=\"dataframe\">\n",
       "  <thead>\n",
       "    <tr style=\"text-align: right;\">\n",
       "      <th></th>\n",
       "      <th>scalerank</th>\n",
       "      <th>featurecla</th>\n",
       "      <th>LABELRANK</th>\n",
       "      <th>SOVEREIGNT</th>\n",
       "      <th>SOV_A3</th>\n",
       "      <th>ADM0_DIF</th>\n",
       "      <th>LEVEL</th>\n",
       "      <th>TYPE</th>\n",
       "      <th>ADMIN</th>\n",
       "      <th>ADM0_A3</th>\n",
       "      <th>...</th>\n",
       "      <th>REGION_WB</th>\n",
       "      <th>NAME_LEN</th>\n",
       "      <th>LONG_LEN</th>\n",
       "      <th>ABBREV_LEN</th>\n",
       "      <th>TINY</th>\n",
       "      <th>HOMEPART</th>\n",
       "      <th>MIN_ZOOM</th>\n",
       "      <th>MIN_LABEL</th>\n",
       "      <th>MAX_LABEL</th>\n",
       "      <th>geometry</th>\n",
       "    </tr>\n",
       "  </thead>\n",
       "  <tbody>\n",
       "    <tr>\n",
       "      <th>0</th>\n",
       "      <td>1</td>\n",
       "      <td>Admin-0 country</td>\n",
       "      <td>3.0</td>\n",
       "      <td>Afghanistan</td>\n",
       "      <td>AFG</td>\n",
       "      <td>0.0</td>\n",
       "      <td>2.0</td>\n",
       "      <td>Sovereign country</td>\n",
       "      <td>Afghanistan</td>\n",
       "      <td>AFG</td>\n",
       "      <td>...</td>\n",
       "      <td>South Asia</td>\n",
       "      <td>11.0</td>\n",
       "      <td>11.0</td>\n",
       "      <td>4.0</td>\n",
       "      <td>-99.0</td>\n",
       "      <td>1.0</td>\n",
       "      <td>0.0</td>\n",
       "      <td>3.0</td>\n",
       "      <td>7.0</td>\n",
       "      <td>POLYGON ((61.21082 35.65007, 62.23065 35.27066...</td>\n",
       "    </tr>\n",
       "    <tr>\n",
       "      <th>1</th>\n",
       "      <td>1</td>\n",
       "      <td>Admin-0 country</td>\n",
       "      <td>3.0</td>\n",
       "      <td>Angola</td>\n",
       "      <td>AGO</td>\n",
       "      <td>0.0</td>\n",
       "      <td>2.0</td>\n",
       "      <td>Sovereign country</td>\n",
       "      <td>Angola</td>\n",
       "      <td>AGO</td>\n",
       "      <td>...</td>\n",
       "      <td>Sub-Saharan Africa</td>\n",
       "      <td>6.0</td>\n",
       "      <td>6.0</td>\n",
       "      <td>4.0</td>\n",
       "      <td>-99.0</td>\n",
       "      <td>1.0</td>\n",
       "      <td>0.0</td>\n",
       "      <td>3.0</td>\n",
       "      <td>7.0</td>\n",
       "      <td>MULTIPOLYGON (((23.90415 -11.72228, 24.07991 -...</td>\n",
       "    </tr>\n",
       "  </tbody>\n",
       "</table>\n",
       "<p>2 rows × 72 columns</p>\n",
       "</div>"
      ],
      "text/plain": [
       "   scalerank       featurecla  LABELRANK   SOVEREIGNT SOV_A3  ADM0_DIF  LEVEL  \\\n",
       "0          1  Admin-0 country        3.0  Afghanistan    AFG       0.0    2.0   \n",
       "1          1  Admin-0 country        3.0       Angola    AGO       0.0    2.0   \n",
       "\n",
       "                TYPE        ADMIN ADM0_A3  ...           REGION_WB NAME_LEN  \\\n",
       "0  Sovereign country  Afghanistan     AFG  ...          South Asia     11.0   \n",
       "1  Sovereign country       Angola     AGO  ...  Sub-Saharan Africa      6.0   \n",
       "\n",
       "  LONG_LEN  ABBREV_LEN  TINY HOMEPART  MIN_ZOOM MIN_LABEL MAX_LABEL  \\\n",
       "0     11.0         4.0 -99.0      1.0       0.0       3.0       7.0   \n",
       "1      6.0         4.0 -99.0      1.0       0.0       3.0       7.0   \n",
       "\n",
       "                                            geometry  \n",
       "0  POLYGON ((61.21082 35.65007, 62.23065 35.27066...  \n",
       "1  MULTIPOLYGON (((23.90415 -11.72228, 24.07991 -...  \n",
       "\n",
       "[2 rows x 72 columns]"
      ]
     },
     "execution_count": 2,
     "metadata": {},
     "output_type": "execute_result"
    }
   ],
   "source": [
    "url_path = 'https://raw.githubusercontent.com/martynafford/natural-earth-geojson/refs/heads/master/110m/cultural/ne_110m_admin_0_countries.json'\n",
    "geo_data = GeoData(url_path, InputTypes.DATA_URL, row_filter=2)\n",
    "geo_data.gdf"
   ]
  },
  {
   "cell_type": "code",
   "execution_count": 3,
   "metadata": {},
   "outputs": [
    {
     "data": {
      "text/html": [
       "<div>\n",
       "<style scoped>\n",
       "    .dataframe tbody tr th:only-of-type {\n",
       "        vertical-align: middle;\n",
       "    }\n",
       "\n",
       "    .dataframe tbody tr th {\n",
       "        vertical-align: top;\n",
       "    }\n",
       "\n",
       "    .dataframe thead th {\n",
       "        text-align: right;\n",
       "    }\n",
       "</style>\n",
       "<table border=\"1\" class=\"dataframe\">\n",
       "  <thead>\n",
       "    <tr style=\"text-align: right;\">\n",
       "      <th></th>\n",
       "      <th>FID</th>\n",
       "      <th>h3_index</th>\n",
       "      <th>DEM_elev</th>\n",
       "      <th>units</th>\n",
       "      <th>lidar_Z</th>\n",
       "      <th>Obs_AGL</th>\n",
       "      <th>Shape__Area</th>\n",
       "      <th>Shape__Length</th>\n",
       "      <th>geometry</th>\n",
       "    </tr>\n",
       "  </thead>\n",
       "  <tbody>\n",
       "    <tr>\n",
       "      <th>0</th>\n",
       "      <td>1736</td>\n",
       "      <td>8a274d24b097fff</td>\n",
       "      <td>266.1</td>\n",
       "      <td>m</td>\n",
       "      <td>348.719</td>\n",
       "      <td>82.6</td>\n",
       "      <td>0.000002</td>\n",
       "      <td>0.004958</td>\n",
       "      <td>POLYGON ((-83.54742 42.36547, -83.54667 42.365...</td>\n",
       "    </tr>\n",
       "    <tr>\n",
       "      <th>1</th>\n",
       "      <td>2062</td>\n",
       "      <td>8a274d24c04ffff</td>\n",
       "      <td>267.3</td>\n",
       "      <td>m</td>\n",
       "      <td>320.970</td>\n",
       "      <td>53.7</td>\n",
       "      <td>0.000002</td>\n",
       "      <td>0.004962</td>\n",
       "      <td>POLYGON ((-83.51675 42.40277, -83.516 42.40233...</td>\n",
       "    </tr>\n",
       "    <tr>\n",
       "      <th>2</th>\n",
       "      <td>2063</td>\n",
       "      <td>8a274d24c04ffff</td>\n",
       "      <td>267.3</td>\n",
       "      <td>m</td>\n",
       "      <td>320.970</td>\n",
       "      <td>53.7</td>\n",
       "      <td>0.000002</td>\n",
       "      <td>0.004962</td>\n",
       "      <td>POLYGON ((-83.51675 42.40277, -83.516 42.40233...</td>\n",
       "    </tr>\n",
       "  </tbody>\n",
       "</table>\n",
       "</div>"
      ],
      "text/plain": [
       "    FID         h3_index  DEM_elev units  lidar_Z  Obs_AGL  Shape__Area  \\\n",
       "0  1736  8a274d24b097fff     266.1     m  348.719     82.6     0.000002   \n",
       "1  2062  8a274d24c04ffff     267.3     m  320.970     53.7     0.000002   \n",
       "2  2063  8a274d24c04ffff     267.3     m  320.970     53.7     0.000002   \n",
       "\n",
       "   Shape__Length                                           geometry  \n",
       "0       0.004958  POLYGON ((-83.54742 42.36547, -83.54667 42.365...  \n",
       "1       0.004962  POLYGON ((-83.51675 42.40277, -83.516 42.40233...  \n",
       "2       0.004962  POLYGON ((-83.51675 42.40277, -83.516 42.40233...  "
      ]
     },
     "execution_count": 3,
     "metadata": {},
     "output_type": "execute_result"
    }
   ],
   "source": [
    "url_path = 'https://raw.githubusercontent.com/eKerney/dataStore2/refs/heads/main/wayneGroundObs.geojson'\n",
    "geo_data = GeoData(url_path, InputTypes.DATA_URL, row_filter=3)\n",
    "geo_data.gdf.he"
   ]
  },
  {
   "cell_type": "code",
   "execution_count": 2,
   "metadata": {},
   "outputs": [
    {
     "data": {
      "text/html": [
       "<div>\n",
       "<style scoped>\n",
       "    .dataframe tbody tr th:only-of-type {\n",
       "        vertical-align: middle;\n",
       "    }\n",
       "\n",
       "    .dataframe tbody tr th {\n",
       "        vertical-align: top;\n",
       "    }\n",
       "\n",
       "    .dataframe thead th {\n",
       "        text-align: right;\n",
       "    }\n",
       "</style>\n",
       "<table border=\"1\" class=\"dataframe\">\n",
       "  <thead>\n",
       "    <tr style=\"text-align: right;\">\n",
       "      <th></th>\n",
       "      <th>segment_id</th>\n",
       "      <th>name</th>\n",
       "      <th>segment_ty</th>\n",
       "      <th>geometry</th>\n",
       "    </tr>\n",
       "  </thead>\n",
       "  <tbody>\n",
       "    <tr>\n",
       "      <th>0</th>\n",
       "      <td>1111503841</td>\n",
       "      <td>West Main Street / 111568112 / 7</td>\n",
       "      <td>primary</td>\n",
       "      <td>LINESTRING (-85.61777 42.29486, -85.61716 42.2...</td>\n",
       "    </tr>\n",
       "    <tr>\n",
       "      <th>1</th>\n",
       "      <td>1111754274</td>\n",
       "      <td>West Main Street / 727695179 / 1</td>\n",
       "      <td>primary</td>\n",
       "      <td>LINESTRING (-85.62555 42.2955, -85.62523 42.29...</td>\n",
       "    </tr>\n",
       "    <tr>\n",
       "      <th>2</th>\n",
       "      <td>1111871475</td>\n",
       "      <td>West Main Street / 264373332 / 7</td>\n",
       "      <td>primary</td>\n",
       "      <td>LINESTRING (-85.63055 42.29619, -85.62977 42.2...</td>\n",
       "    </tr>\n",
       "    <tr>\n",
       "      <th>3</th>\n",
       "      <td>1112032394</td>\n",
       "      <td>West Main Street / 111568112 / 8</td>\n",
       "      <td>primary</td>\n",
       "      <td>LINESTRING (-85.61716 42.29484, -85.61655 42.2...</td>\n",
       "    </tr>\n",
       "    <tr>\n",
       "      <th>4</th>\n",
       "      <td>1112161013</td>\n",
       "      <td>West Main Street / 888230017 / 1</td>\n",
       "      <td>primary</td>\n",
       "      <td>LINESTRING (-85.6616 42.29599, -85.66073 42.29...</td>\n",
       "    </tr>\n",
       "  </tbody>\n",
       "</table>\n",
       "</div>"
      ],
      "text/plain": [
       "   segment_id                              name segment_ty  \\\n",
       "0  1111503841  West Main Street / 111568112 / 7    primary   \n",
       "1  1111754274  West Main Street / 727695179 / 1    primary   \n",
       "2  1111871475  West Main Street / 264373332 / 7    primary   \n",
       "3  1112032394  West Main Street / 111568112 / 8    primary   \n",
       "4  1112161013  West Main Street / 888230017 / 1    primary   \n",
       "\n",
       "                                            geometry  \n",
       "0  LINESTRING (-85.61777 42.29486, -85.61716 42.2...  \n",
       "1  LINESTRING (-85.62555 42.2955, -85.62523 42.29...  \n",
       "2  LINESTRING (-85.63055 42.29619, -85.62977 42.2...  \n",
       "3  LINESTRING (-85.61716 42.29484, -85.61655 42.2...  \n",
       "4  LINESTRING (-85.6616 42.29599, -85.66073 42.29...  "
      ]
     },
     "execution_count": 2,
     "metadata": {},
     "output_type": "execute_result"
    }
   ],
   "source": [
    "file_path = '/home/pi/dev/notebooks/30DayMap2024/data/kzoo_street_12225/1861928_West_Main_Street/Shapefile/1861928_West_Main_Street_osm_segment.geojson'\n",
    "geo_data = GeoData(file_path, InputTypes.DATA_PATH)\n",
    "geo_data.gdf.head()"
   ]
  },
  {
   "cell_type": "code",
   "execution_count": 8,
   "metadata": {},
   "outputs": [
    {
     "name": "stdout",
     "output_type": "stream",
     "text": [
      "GeoJSON output: ../testing.geojson\n"
     ]
    }
   ],
   "source": [
    "geo_data.export_geojson('../testing')"
   ]
  },
  {
   "cell_type": "code",
   "execution_count": 12,
   "metadata": {},
   "outputs": [
    {
     "data": {
      "text/plain": [
       "{'id': '0',\n",
       " 'type': 'Feature',\n",
       " 'properties': {'segment_id': 1111503841,\n",
       "  'name': 'West Main Street / 111568112 / 7',\n",
       "  'segment_ty': 'primary'},\n",
       " 'geometry': {'type': 'LineString',\n",
       "  'coordinates': [[-85.61777353286743, 42.29485583305359],\n",
       "   [-85.61715984344482, 42.29484176635742]]}}"
      ]
     },
     "execution_count": 12,
     "metadata": {},
     "output_type": "execute_result"
    }
   ],
   "source": [
    "geo_data.geojson['features'][0]"
   ]
  }
 ],
 "metadata": {
  "kernelspec": {
   "display_name": ".venv",
   "language": "python",
   "name": "python3"
  },
  "language_info": {
   "codemirror_mode": {
    "name": "ipython",
    "version": 3
   },
   "file_extension": ".py",
   "mimetype": "text/x-python",
   "name": "python",
   "nbconvert_exporter": "python",
   "pygments_lexer": "ipython3",
   "version": "3.11.10"
  }
 },
 "nbformat": 4,
 "nbformat_minor": 2
}
