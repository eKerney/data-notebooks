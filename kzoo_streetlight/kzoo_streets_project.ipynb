{
 "cells": [
  {
   "cell_type": "code",
   "execution_count": 16,
   "metadata": {},
   "outputs": [],
   "source": [
    "import pandas as pd\n",
    "import json\n",
    "import os\n",
    "import numpy as np"
   ]
  },
  {
   "cell_type": "code",
   "execution_count": 2,
   "metadata": {},
   "outputs": [
    {
     "data": {
      "text/plain": [
       "'/home/pi/dev/notebooks/30DayMap2024/data/kzoo_street_12225/1861928_West_Main_Street'"
      ]
     },
     "execution_count": 2,
     "metadata": {},
     "output_type": "execute_result"
    }
   ],
   "source": [
    "os.chdir('/home/pi/dev/notebooks/30DayMap2024/data/kzoo_street_12225')\n",
    "dirs = os.listdir()\n",
    "os.chdir(dirs[0])\n",
    "os.getcwd()"
   ]
  },
  {
   "cell_type": "code",
   "execution_count": 13,
   "metadata": {},
   "outputs": [
    {
     "data": {
      "text/html": [
       "<div>\n",
       "<style scoped>\n",
       "    .dataframe tbody tr th:only-of-type {\n",
       "        vertical-align: middle;\n",
       "    }\n",
       "\n",
       "    .dataframe tbody tr th {\n",
       "        vertical-align: top;\n",
       "    }\n",
       "\n",
       "    .dataframe thead th {\n",
       "        text-align: right;\n",
       "    }\n",
       "</style>\n",
       "<table border=\"1\" class=\"dataframe\">\n",
       "  <thead>\n",
       "    <tr style=\"text-align: right;\">\n",
       "      <th></th>\n",
       "      <th>Data Periods</th>\n",
       "      <th>Mode of Travel</th>\n",
       "      <th>Zone ID</th>\n",
       "      <th>Zone Name</th>\n",
       "      <th>Road Classification</th>\n",
       "      <th>Line Zone Length (Miles)</th>\n",
       "      <th>Zone Is Pass Through</th>\n",
       "      <th>Zone Direction (degrees)</th>\n",
       "      <th>Zone Cardinal Direction</th>\n",
       "      <th>Zone is Bi-Direction</th>\n",
       "      <th>Day Type</th>\n",
       "      <th>Day Part</th>\n",
       "      <th>Average Daily Segment Traffic (StL Volume)</th>\n",
       "      <th>Avg Segment Speed (mph)</th>\n",
       "      <th>Avg Segment Travel Time (sec)</th>\n",
       "      <th>Free Flow Speed (mph)</th>\n",
       "      <th>Vehicle Miles of Travel (StL Volume)</th>\n",
       "      <th>Travel Time Index</th>\n",
       "      <th>Congested Segment</th>\n",
       "      <th>85th Speed Percentile</th>\n",
       "    </tr>\n",
       "  </thead>\n",
       "  <tbody>\n",
       "    <tr>\n",
       "      <th>0</th>\n",
       "      <td>Jan 01, 2022 - Dec 31, 2023</td>\n",
       "      <td>All Vehicles - StL All Vehicles Volume</td>\n",
       "      <td>1111503841</td>\n",
       "      <td>West Main Street / 111568112 / 7</td>\n",
       "      <td>Primary</td>\n",
       "      <td>0.031</td>\n",
       "      <td>yes</td>\n",
       "      <td>92</td>\n",
       "      <td>EAST</td>\n",
       "      <td>yes</td>\n",
       "      <td>0: All Days (M-Su)</td>\n",
       "      <td>00: All Day (12am-12am)</td>\n",
       "      <td>11509</td>\n",
       "      <td>40</td>\n",
       "      <td>3</td>\n",
       "      <td>44.303</td>\n",
       "      <td>360.04</td>\n",
       "      <td>1.12</td>\n",
       "      <td>False</td>\n",
       "      <td>45</td>\n",
       "    </tr>\n",
       "    <tr>\n",
       "      <th>1</th>\n",
       "      <td>Jan 01, 2022 - Dec 31, 2023</td>\n",
       "      <td>All Vehicles - StL All Vehicles Volume</td>\n",
       "      <td>1111503841</td>\n",
       "      <td>West Main Street / 111568112 / 7</td>\n",
       "      <td>Primary</td>\n",
       "      <td>0.031</td>\n",
       "      <td>yes</td>\n",
       "      <td>92</td>\n",
       "      <td>EAST</td>\n",
       "      <td>yes</td>\n",
       "      <td>0: All Days (M-Su)</td>\n",
       "      <td>01: 12am (12am-1am)</td>\n",
       "      <td>125</td>\n",
       "      <td>40</td>\n",
       "      <td>3</td>\n",
       "      <td>44.303</td>\n",
       "      <td>3.92</td>\n",
       "      <td>1.09</td>\n",
       "      <td>False</td>\n",
       "      <td>46</td>\n",
       "    </tr>\n",
       "  </tbody>\n",
       "</table>\n",
       "</div>"
      ],
      "text/plain": [
       "                  Data Periods                          Mode of Travel  \\\n",
       "0  Jan 01, 2022 - Dec 31, 2023  All Vehicles - StL All Vehicles Volume   \n",
       "1  Jan 01, 2022 - Dec 31, 2023  All Vehicles - StL All Vehicles Volume   \n",
       "\n",
       "      Zone ID                         Zone Name Road Classification  \\\n",
       "0  1111503841  West Main Street / 111568112 / 7             Primary   \n",
       "1  1111503841  West Main Street / 111568112 / 7             Primary   \n",
       "\n",
       "   Line Zone Length (Miles) Zone Is Pass Through  Zone Direction (degrees)  \\\n",
       "0                     0.031                  yes                        92   \n",
       "1                     0.031                  yes                        92   \n",
       "\n",
       "  Zone Cardinal Direction Zone is Bi-Direction            Day Type  \\\n",
       "0                    EAST                  yes  0: All Days (M-Su)   \n",
       "1                    EAST                  yes  0: All Days (M-Su)   \n",
       "\n",
       "                  Day Part  Average Daily Segment Traffic (StL Volume)  \\\n",
       "0  00: All Day (12am-12am)                                       11509   \n",
       "1      01: 12am (12am-1am)                                         125   \n",
       "\n",
       "   Avg Segment Speed (mph)  Avg Segment Travel Time (sec)  \\\n",
       "0                       40                              3   \n",
       "1                       40                              3   \n",
       "\n",
       "   Free Flow Speed (mph)  Vehicle Miles of Travel (StL Volume)  \\\n",
       "0                 44.303                                360.04   \n",
       "1                 44.303                                  3.92   \n",
       "\n",
       "   Travel Time Index  Congested Segment  85th Speed Percentile  \n",
       "0               1.12              False                     45  \n",
       "1               1.09              False                     46  "
      ]
     },
     "execution_count": 13,
     "metadata": {},
     "output_type": "execute_result"
    }
   ],
   "source": [
    "files = os.listdir()\n",
    "df = pd.read_csv(files[0])\n",
    "df.head(2)"
   ]
  },
  {
   "cell_type": "code",
   "execution_count": null,
   "metadata": {},
   "outputs": [
    {
     "data": {
      "text/html": [
       "<div>\n",
       "<style scoped>\n",
       "    .dataframe tbody tr th:only-of-type {\n",
       "        vertical-align: middle;\n",
       "    }\n",
       "\n",
       "    .dataframe tbody tr th {\n",
       "        vertical-align: top;\n",
       "    }\n",
       "\n",
       "    .dataframe thead th {\n",
       "        text-align: right;\n",
       "    }\n",
       "</style>\n",
       "<table border=\"1\" class=\"dataframe\">\n",
       "  <thead>\n",
       "    <tr style=\"text-align: right;\">\n",
       "      <th></th>\n",
       "      <th>Zone ID</th>\n",
       "      <th>Day Type</th>\n",
       "      <th>Average Daily Segment Traffic (StL Volume)</th>\n",
       "      <th>Avg Segment Speed (mph)</th>\n",
       "      <th>Free Flow Speed (mph)</th>\n",
       "      <th>85th Speed Percentile</th>\n",
       "    </tr>\n",
       "  </thead>\n",
       "  <tbody>\n",
       "    <tr>\n",
       "      <th>0</th>\n",
       "      <td>1111503841</td>\n",
       "      <td>0: All Days (M-Su)</td>\n",
       "      <td>11509</td>\n",
       "      <td>40</td>\n",
       "      <td>44.303</td>\n",
       "      <td>45</td>\n",
       "    </tr>\n",
       "    <tr>\n",
       "      <th>90</th>\n",
       "      <td>1111754274</td>\n",
       "      <td>0: All Days (M-Su)</td>\n",
       "      <td>11450</td>\n",
       "      <td>37</td>\n",
       "      <td>42.516</td>\n",
       "      <td>43</td>\n",
       "    </tr>\n",
       "  </tbody>\n",
       "</table>\n",
       "</div>"
      ],
      "text/plain": [
       "       Zone ID            Day Type  \\\n",
       "0   1111503841  0: All Days (M-Su)   \n",
       "90  1111754274  0: All Days (M-Su)   \n",
       "\n",
       "    Average Daily Segment Traffic (StL Volume)  Avg Segment Speed (mph)  \\\n",
       "0                                        11509                       40   \n",
       "90                                       11450                       37   \n",
       "\n",
       "    Free Flow Speed (mph)  85th Speed Percentile  \n",
       "0                  44.303                     45  \n",
       "90                 42.516                     43  "
      ]
     },
     "execution_count": 56,
     "metadata": {},
     "output_type": "execute_result"
    }
   ],
   "source": [
    "df_all = df[(df['Day Part'] == '00: All Day (12am-12am)') & (df['Day Type'] == '0: All Days (M-Su)')]\n",
    "c = df_all.columns\n",
    "df_at = df_all[[c[2], c[10], c[12], c[13], c[15], c[19]]]\n",
    "df_at.count()"
   ]
  },
  {
   "cell_type": "code",
   "execution_count": 146,
   "metadata": {},
   "outputs": [
    {
     "name": "stdout",
     "output_type": "stream",
     "text": [
      "Loaded JSON: 1861928_West_Main_Street_osm_segment.geojson\n",
      "GeoJSON output: west_main.geojson\n"
     ]
    }
   ],
   "source": [
    "url_path = 'https://raw.githubusercontent.com/eKerney/dataStore2/refs/heads/main/wayneGroundObs.geojson'\n",
    "file_path = '/home/pi/dev/notebooks/30DayMap2024/data/kzoo_street_12225/1861928_West_Main_Street/Shapefile/1861928_West_Main_Street_osm_segment.geojson'\n",
    "geojson = GeoJSONtools(file_path)\n",
    "geojson.export_file(\"west_main\")"
   ]
  },
  {
   "cell_type": "code",
   "execution_count": 144,
   "metadata": {},
   "outputs": [],
   "source": [
    "import pandas as pd\n",
    "import geopandas as gpd\n",
    "import os\n",
    "import json\n",
    "import numpy as np\n",
    "\n",
    "class GeoJSONtools:\n",
    "    def __init__(self, file_path: str=\"\"):\n",
    "        if not file_path:\n",
    "            self.geojson = None\n",
    "        elif file_path.startswith(\"https:\") or file_path.startswith(\"http:\"):\n",
    "            gdf = gpd.read_file(file_path)\n",
    "            self.geojson = json.loads(gdf.to_json())\n",
    "        else:\n",
    "            f = open(file_path)\n",
    "            splt = file_path.split('/')\n",
    "            print(f'Loaded JSON: {splt[-1]}')\n",
    "            self.geojson = json.load(f)\n",
    "\n",
    "    @property          \n",
    "    def geojson(self): \n",
    "        return self._geojson\n",
    "\n",
    "    @geojson.setter \n",
    "    def geojson(self, value):\n",
    "        self._geojson = value  \n",
    "    \n",
    "    def export_file(self, file_name=\"geojson_file.geojson\"):\n",
    "        with open((f'{file_name}.geojson'), \"w\") as outfile:\n",
    "            outfile.write(json.dumps(self.geojson))\n",
    "        print(f'GeoJSON output: {file_name}.geojson')\n"
   ]
  },
  {
   "cell_type": "code",
   "execution_count": 44,
   "metadata": {},
   "outputs": [
    {
     "name": "stdout",
     "output_type": "stream",
     "text": [
      "Loaded JSON: 1861928_West_Main_Street_osm_segment.geojson\n"
     ]
    },
    {
     "data": {
      "text/plain": [
       "53"
      ]
     },
     "execution_count": 44,
     "metadata": {},
     "output_type": "execute_result"
    }
   ],
   "source": [
    "geo_path = '/home/pi/dev/notebooks/30DayMap2024/data/kzoo_street_12225/1861928_West_Main_Street/Shapefile/1861928_West_Main_Street_osm_segment.geojson'\n",
    "west_main_geo = load_json(geo_path)\n",
    "west_main_geo['features'].__len__()"
   ]
  },
  {
   "cell_type": "code",
   "execution_count": 106,
   "metadata": {},
   "outputs": [
    {
     "data": {
      "text/plain": [
       "{'Zone ID': 1111503841,\n",
       " 'Day Type': '0: All Days (M-Su)',\n",
       " 'Average Daily Segment Traffic (StL Volume)': 11509,\n",
       " 'Avg Segment Speed (mph)': 40,\n",
       " 'Free Flow Speed (mph)': 44.303,\n",
       " '85th Speed Percentile': 45}"
      ]
     },
     "execution_count": 106,
     "metadata": {},
     "output_type": "execute_result"
    }
   ],
   "source": [
    "df_at.set_index(df_at['Zone ID'], inplace=True)\n",
    "data = df_at.to_dict('index')\n",
    "data[1111503841]"
   ]
  },
  {
   "cell_type": "code",
   "execution_count": null,
   "metadata": {},
   "outputs": [],
   "source": [
    "west_main_geo"
   ]
  },
  {
   "cell_type": "code",
   "execution_count": null,
   "metadata": {},
   "outputs": [],
   "source": [
    "new_gj = {'type': 'FeatureCollection', 'features': []}\n",
    "for f in west_main_geo['features']:\n",
    "    f['properties'].update(data[f['properties']['segment_id']])\n",
    "    new_gj['features'].append(f)\n",
    "# new_gj"
   ]
  },
  {
   "cell_type": "markdown",
   "metadata": {},
   "source": [
    "### geodata working section"
   ]
  },
  {
   "cell_type": "code",
   "execution_count": 1,
   "metadata": {},
   "outputs": [],
   "source": [
    "import os\n",
    "os.chdir(os.path.expanduser('geodata-py-utils'))\n",
    "from geodata_py_utils import *"
   ]
  },
  {
   "cell_type": "code",
   "execution_count": 3,
   "metadata": {},
   "outputs": [
    {
     "data": {
      "text/html": [
       "<div>\n",
       "<style scoped>\n",
       "    .dataframe tbody tr th:only-of-type {\n",
       "        vertical-align: middle;\n",
       "    }\n",
       "\n",
       "    .dataframe tbody tr th {\n",
       "        vertical-align: top;\n",
       "    }\n",
       "\n",
       "    .dataframe thead th {\n",
       "        text-align: right;\n",
       "    }\n",
       "</style>\n",
       "<table border=\"1\" class=\"dataframe\">\n",
       "  <thead>\n",
       "    <tr style=\"text-align: right;\">\n",
       "      <th></th>\n",
       "      <th>FID</th>\n",
       "      <th>h3_index</th>\n",
       "      <th>DEM_elev</th>\n",
       "      <th>units</th>\n",
       "      <th>lidar_Z</th>\n",
       "      <th>Obs_AGL</th>\n",
       "      <th>Shape__Area</th>\n",
       "      <th>Shape__Length</th>\n",
       "      <th>geometry</th>\n",
       "    </tr>\n",
       "  </thead>\n",
       "  <tbody>\n",
       "    <tr>\n",
       "      <th>0</th>\n",
       "      <td>1736</td>\n",
       "      <td>8a274d24b097fff</td>\n",
       "      <td>266.1</td>\n",
       "      <td>m</td>\n",
       "      <td>348.719</td>\n",
       "      <td>82.6</td>\n",
       "      <td>0.000002</td>\n",
       "      <td>0.004958</td>\n",
       "      <td>POLYGON ((-83.54742 42.36547, -83.54667 42.365...</td>\n",
       "    </tr>\n",
       "    <tr>\n",
       "      <th>1</th>\n",
       "      <td>2062</td>\n",
       "      <td>8a274d24c04ffff</td>\n",
       "      <td>267.3</td>\n",
       "      <td>m</td>\n",
       "      <td>320.970</td>\n",
       "      <td>53.7</td>\n",
       "      <td>0.000002</td>\n",
       "      <td>0.004962</td>\n",
       "      <td>POLYGON ((-83.51675 42.40277, -83.516 42.40233...</td>\n",
       "    </tr>\n",
       "    <tr>\n",
       "      <th>2</th>\n",
       "      <td>2063</td>\n",
       "      <td>8a274d24c04ffff</td>\n",
       "      <td>267.3</td>\n",
       "      <td>m</td>\n",
       "      <td>320.970</td>\n",
       "      <td>53.7</td>\n",
       "      <td>0.000002</td>\n",
       "      <td>0.004962</td>\n",
       "      <td>POLYGON ((-83.51675 42.40277, -83.516 42.40233...</td>\n",
       "    </tr>\n",
       "    <tr>\n",
       "      <th>3</th>\n",
       "      <td>2064</td>\n",
       "      <td>8a274d24c04ffff</td>\n",
       "      <td>267.3</td>\n",
       "      <td>m</td>\n",
       "      <td>320.970</td>\n",
       "      <td>53.7</td>\n",
       "      <td>0.000002</td>\n",
       "      <td>0.004962</td>\n",
       "      <td>POLYGON ((-83.51675 42.40277, -83.516 42.40233...</td>\n",
       "    </tr>\n",
       "    <tr>\n",
       "      <th>4</th>\n",
       "      <td>2065</td>\n",
       "      <td>8a274d24c04ffff</td>\n",
       "      <td>267.3</td>\n",
       "      <td>m</td>\n",
       "      <td>320.970</td>\n",
       "      <td>53.7</td>\n",
       "      <td>0.000002</td>\n",
       "      <td>0.004962</td>\n",
       "      <td>POLYGON ((-83.51675 42.40277, -83.516 42.40233...</td>\n",
       "    </tr>\n",
       "    <tr>\n",
       "      <th>...</th>\n",
       "      <td>...</td>\n",
       "      <td>...</td>\n",
       "      <td>...</td>\n",
       "      <td>...</td>\n",
       "      <td>...</td>\n",
       "      <td>...</td>\n",
       "      <td>...</td>\n",
       "      <td>...</td>\n",
       "      <td>...</td>\n",
       "    </tr>\n",
       "    <tr>\n",
       "      <th>417</th>\n",
       "      <td>136269</td>\n",
       "      <td>8a2ab2ce62effff</td>\n",
       "      <td>199.0</td>\n",
       "      <td>m</td>\n",
       "      <td>274.521</td>\n",
       "      <td>75.5</td>\n",
       "      <td>0.000002</td>\n",
       "      <td>0.004963</td>\n",
       "      <td>POLYGON ((-83.17141 42.39463, -83.17067 42.394...</td>\n",
       "    </tr>\n",
       "    <tr>\n",
       "      <th>418</th>\n",
       "      <td>137443</td>\n",
       "      <td>8a2ab2cea247fff</td>\n",
       "      <td>180.1</td>\n",
       "      <td>m</td>\n",
       "      <td>241.551</td>\n",
       "      <td>61.5</td>\n",
       "      <td>0.000002</td>\n",
       "      <td>0.004957</td>\n",
       "      <td>POLYGON ((-83.15087 42.32087, -83.15012 42.320...</td>\n",
       "    </tr>\n",
       "    <tr>\n",
       "      <th>419</th>\n",
       "      <td>137446</td>\n",
       "      <td>8a2ab2cea25ffff</td>\n",
       "      <td>180.1</td>\n",
       "      <td>m</td>\n",
       "      <td>240.789</td>\n",
       "      <td>60.7</td>\n",
       "      <td>0.000002</td>\n",
       "      <td>0.004957</td>\n",
       "      <td>POLYGON ((-83.15193 42.31997, -83.15118 42.319...</td>\n",
       "    </tr>\n",
       "    <tr>\n",
       "      <th>420</th>\n",
       "      <td>140439</td>\n",
       "      <td>8a2ab2cf314ffff</td>\n",
       "      <td>189.6</td>\n",
       "      <td>m</td>\n",
       "      <td>331.616</td>\n",
       "      <td>142.0</td>\n",
       "      <td>0.000002</td>\n",
       "      <td>0.004961</td>\n",
       "      <td>POLYGON ((-83.24245 42.37805, -83.24171 42.377...</td>\n",
       "    </tr>\n",
       "    <tr>\n",
       "      <th>421</th>\n",
       "      <td>140440</td>\n",
       "      <td>8a2ab2cf315ffff</td>\n",
       "      <td>190.2</td>\n",
       "      <td>m</td>\n",
       "      <td>271.912</td>\n",
       "      <td>81.7</td>\n",
       "      <td>0.000002</td>\n",
       "      <td>0.004961</td>\n",
       "      <td>POLYGON ((-83.2441 42.37826, -83.24336 42.3778...</td>\n",
       "    </tr>\n",
       "  </tbody>\n",
       "</table>\n",
       "<p>422 rows × 9 columns</p>\n",
       "</div>"
      ],
      "text/plain": [
       "        FID         h3_index  DEM_elev units  lidar_Z  Obs_AGL  Shape__Area  \\\n",
       "0      1736  8a274d24b097fff     266.1     m  348.719     82.6     0.000002   \n",
       "1      2062  8a274d24c04ffff     267.3     m  320.970     53.7     0.000002   \n",
       "2      2063  8a274d24c04ffff     267.3     m  320.970     53.7     0.000002   \n",
       "3      2064  8a274d24c04ffff     267.3     m  320.970     53.7     0.000002   \n",
       "4      2065  8a274d24c04ffff     267.3     m  320.970     53.7     0.000002   \n",
       "..      ...              ...       ...   ...      ...      ...          ...   \n",
       "417  136269  8a2ab2ce62effff     199.0     m  274.521     75.5     0.000002   \n",
       "418  137443  8a2ab2cea247fff     180.1     m  241.551     61.5     0.000002   \n",
       "419  137446  8a2ab2cea25ffff     180.1     m  240.789     60.7     0.000002   \n",
       "420  140439  8a2ab2cf314ffff     189.6     m  331.616    142.0     0.000002   \n",
       "421  140440  8a2ab2cf315ffff     190.2     m  271.912     81.7     0.000002   \n",
       "\n",
       "     Shape__Length                                           geometry  \n",
       "0         0.004958  POLYGON ((-83.54742 42.36547, -83.54667 42.365...  \n",
       "1         0.004962  POLYGON ((-83.51675 42.40277, -83.516 42.40233...  \n",
       "2         0.004962  POLYGON ((-83.51675 42.40277, -83.516 42.40233...  \n",
       "3         0.004962  POLYGON ((-83.51675 42.40277, -83.516 42.40233...  \n",
       "4         0.004962  POLYGON ((-83.51675 42.40277, -83.516 42.40233...  \n",
       "..             ...                                                ...  \n",
       "417       0.004963  POLYGON ((-83.17141 42.39463, -83.17067 42.394...  \n",
       "418       0.004957  POLYGON ((-83.15087 42.32087, -83.15012 42.320...  \n",
       "419       0.004957  POLYGON ((-83.15193 42.31997, -83.15118 42.319...  \n",
       "420       0.004961  POLYGON ((-83.24245 42.37805, -83.24171 42.377...  \n",
       "421       0.004961  POLYGON ((-83.2441 42.37826, -83.24336 42.3778...  \n",
       "\n",
       "[422 rows x 9 columns]"
      ]
     },
     "execution_count": 3,
     "metadata": {},
     "output_type": "execute_result"
    }
   ],
   "source": [
    "url_path = 'https://raw.githubusercontent.com/eKerney/dataStore2/refs/heads/main/wayneGroundObs.geojson'\n",
    "geo_data = GeoData(url_path, InputTypes.DATA_URL)\n",
    "geo_data.gdf"
   ]
  },
  {
   "cell_type": "code",
   "execution_count": null,
   "metadata": {},
   "outputs": [],
   "source": [
    "import pyogrio; pyogrio.list_drivers()"
   ]
  }
 ],
 "metadata": {
  "kernelspec": {
   "display_name": "Python 3",
   "language": "python",
   "name": "python3"
  },
  "language_info": {
   "codemirror_mode": {
    "name": "ipython",
    "version": 3
   },
   "file_extension": ".py",
   "mimetype": "text/x-python",
   "name": "python",
   "nbconvert_exporter": "python",
   "pygments_lexer": "ipython3",
   "version": "3.11.10"
  }
 },
 "nbformat": 4,
 "nbformat_minor": 2
}
